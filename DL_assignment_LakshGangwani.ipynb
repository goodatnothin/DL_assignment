{
  "nbformat": 4,
  "nbformat_minor": 0,
  "metadata": {
    "colab": {
      "name": "DL_assignment_LakshGangwani.ipynb",
      "provenance": [],
      "collapsed_sections": []
    },
    "kernelspec": {
      "name": "python3",
      "display_name": "Python 3"
    }
  },
  "cells": [
    {
      "cell_type": "markdown",
      "metadata": {
        "id": "f4dpxTTFCNQi"
      },
      "source": [
        "## Loading the libraries"
      ]
    },
    {
      "cell_type": "code",
      "metadata": {
        "id": "pK__TGE8ABxK"
      },
      "source": [
        "import os\n",
        "import numpy as np\n",
        "import pandas as pd\n",
        "import matplotlib.pyplot as plt\n",
        "from sklearn.model_selection import train_test_split\n",
        "from sklearn.preprocessing import LabelEncoder"
      ],
      "execution_count": 1,
      "outputs": []
    },
    {
      "cell_type": "code",
      "metadata": {
        "id": "uKKckGQngZKP"
      },
      "source": [
        "# from keras.models import Model\n",
        "# from keras.layers import Input, Reshape, Dot\n",
        "# from keras.layers.embeddings import Embedding\n",
        "# from keras.optimizers import Adam\n",
        "# from keras.regularizers import l2\n",
        "# from keras.layers import Concatenate, Dense, Dropout\n",
        "# from keras.layers import Add, Activation, Lambda\n",
        "\n",
        "import tensorflow as tf\n",
        "import keras\n",
        "from pprint import pprint"
      ],
      "execution_count": 2,
      "outputs": []
    },
    {
      "cell_type": "code",
      "metadata": {
        "id": "CEwzA81KOtn8"
      },
      "source": [
        "DATASET_LINK='http://files.grouplens.org/datasets/movielens/ml-100k.zip'"
      ],
      "execution_count": 3,
      "outputs": []
    },
    {
      "cell_type": "code",
      "metadata": {
        "id": "_toQkgU7Ot8r",
        "outputId": "a24bf17c-0fca-4918-8f02-d89f80e33387",
        "colab": {
          "base_uri": "https://localhost:8080/"
        }
      },
      "source": [
        "!wget -nc http://files.grouplens.org/datasets/movielens/ml-100k.zip\n",
        "!unzip -n ml-100k.zip"
      ],
      "execution_count": 4,
      "outputs": [
        {
          "output_type": "stream",
          "name": "stdout",
          "text": [
            "--2021-12-10 13:23:01--  http://files.grouplens.org/datasets/movielens/ml-100k.zip\n",
            "Resolving files.grouplens.org (files.grouplens.org)... 128.101.65.152\n",
            "Connecting to files.grouplens.org (files.grouplens.org)|128.101.65.152|:80... connected.\n",
            "HTTP request sent, awaiting response... 200 OK\n",
            "Length: 4924029 (4.7M) [application/zip]\n",
            "Saving to: ‘ml-100k.zip’\n",
            "\n",
            "ml-100k.zip         100%[===================>]   4.70M  23.3MB/s    in 0.2s    \n",
            "\n",
            "2021-12-10 13:23:01 (23.3 MB/s) - ‘ml-100k.zip’ saved [4924029/4924029]\n",
            "\n",
            "Archive:  ml-100k.zip\n",
            "   creating: ml-100k/\n",
            "  inflating: ml-100k/allbut.pl       \n",
            "  inflating: ml-100k/mku.sh          \n",
            "  inflating: ml-100k/README          \n",
            "  inflating: ml-100k/u.data          \n",
            "  inflating: ml-100k/u.genre         \n",
            "  inflating: ml-100k/u.info          \n",
            "  inflating: ml-100k/u.item          \n",
            "  inflating: ml-100k/u.occupation    \n",
            "  inflating: ml-100k/u.user          \n",
            "  inflating: ml-100k/u1.base         \n",
            "  inflating: ml-100k/u1.test         \n",
            "  inflating: ml-100k/u2.base         \n",
            "  inflating: ml-100k/u2.test         \n",
            "  inflating: ml-100k/u3.base         \n",
            "  inflating: ml-100k/u3.test         \n",
            "  inflating: ml-100k/u4.base         \n",
            "  inflating: ml-100k/u4.test         \n",
            "  inflating: ml-100k/u5.base         \n",
            "  inflating: ml-100k/u5.test         \n",
            "  inflating: ml-100k/ua.base         \n",
            "  inflating: ml-100k/ua.test         \n",
            "  inflating: ml-100k/ub.base         \n",
            "  inflating: ml-100k/ub.test         \n"
          ]
        }
      ]
    },
    {
      "cell_type": "markdown",
      "metadata": {
        "id": "o7aPc6R_O1S9"
      },
      "source": [
        "#Loading MovieLens dataset"
      ]
    },
    {
      "cell_type": "markdown",
      "metadata": {
        "id": "FZ-rNaLsO8Mj"
      },
      "source": [
        "Loading u.info -- The number of users, items, and ratings in the u data set."
      ]
    },
    {
      "cell_type": "code",
      "metadata": {
        "id": "1IV3uY7hOvvF",
        "outputId": "53f28937-c1fe-41ca-8e1e-8d0734bd7948",
        "colab": {
          "base_uri": "https://localhost:8080/"
        }
      },
      "source": [
        "overall_stats = pd.read_csv('ml-100k/u.info', header=None)\n",
        "print(\"Details of users, items and ratings involved in the loaded movielens dataset: \",list(overall_stats[0]))"
      ],
      "execution_count": 5,
      "outputs": [
        {
          "output_type": "stream",
          "name": "stdout",
          "text": [
            "Details of users, items and ratings involved in the loaded movielens dataset:  ['943 users', '1682 items', '100000 ratings']\n"
          ]
        }
      ]
    },
    {
      "cell_type": "markdown",
      "metadata": {
        "id": "pm6F7DFUPPWP"
      },
      "source": [
        "Loading u.data     -- The full u data set, 100000 ratings by 943 users on 1682 items.\n",
        "\n",
        "---\n",
        "\n",
        "\n",
        "\n",
        "              Each user has rated at least 20 movies.  Users and items are\n",
        "              numbered consecutively from 1.  The data is randomly ordered. This is a tab separated list of \n",
        "\t         user id | item id | rating | timestamp. \n",
        "              The time stamps are unix seconds since 1/1/1970 UTC "
      ]
    },
    {
      "cell_type": "code",
      "metadata": {
        "id": "_Dm64PwPO89K",
        "outputId": "2fda9235-5cb6-4064-d0b2-a3ccf5060a59",
        "colab": {
          "base_uri": "https://localhost:8080/",
          "height": 206
        }
      },
      "source": [
        "## same item id is same as movie id, item id column is renamed as movie id\n",
        "column_names1 = ['user id','movie id','rating','timestamp']\n",
        "ratings_dataset = pd.read_csv('ml-100k/u.data', sep='\\t',header=None,names=column_names1)\n",
        "ratings_dataset.head() "
      ],
      "execution_count": 6,
      "outputs": [
        {
          "output_type": "execute_result",
          "data": {
            "text/html": [
              "<div>\n",
              "<style scoped>\n",
              "    .dataframe tbody tr th:only-of-type {\n",
              "        vertical-align: middle;\n",
              "    }\n",
              "\n",
              "    .dataframe tbody tr th {\n",
              "        vertical-align: top;\n",
              "    }\n",
              "\n",
              "    .dataframe thead th {\n",
              "        text-align: right;\n",
              "    }\n",
              "</style>\n",
              "<table border=\"1\" class=\"dataframe\">\n",
              "  <thead>\n",
              "    <tr style=\"text-align: right;\">\n",
              "      <th></th>\n",
              "      <th>user id</th>\n",
              "      <th>movie id</th>\n",
              "      <th>rating</th>\n",
              "      <th>timestamp</th>\n",
              "    </tr>\n",
              "  </thead>\n",
              "  <tbody>\n",
              "    <tr>\n",
              "      <th>0</th>\n",
              "      <td>196</td>\n",
              "      <td>242</td>\n",
              "      <td>3</td>\n",
              "      <td>881250949</td>\n",
              "    </tr>\n",
              "    <tr>\n",
              "      <th>1</th>\n",
              "      <td>186</td>\n",
              "      <td>302</td>\n",
              "      <td>3</td>\n",
              "      <td>891717742</td>\n",
              "    </tr>\n",
              "    <tr>\n",
              "      <th>2</th>\n",
              "      <td>22</td>\n",
              "      <td>377</td>\n",
              "      <td>1</td>\n",
              "      <td>878887116</td>\n",
              "    </tr>\n",
              "    <tr>\n",
              "      <th>3</th>\n",
              "      <td>244</td>\n",
              "      <td>51</td>\n",
              "      <td>2</td>\n",
              "      <td>880606923</td>\n",
              "    </tr>\n",
              "    <tr>\n",
              "      <th>4</th>\n",
              "      <td>166</td>\n",
              "      <td>346</td>\n",
              "      <td>1</td>\n",
              "      <td>886397596</td>\n",
              "    </tr>\n",
              "  </tbody>\n",
              "</table>\n",
              "</div>"
            ],
            "text/plain": [
              "   user id  movie id  rating  timestamp\n",
              "0      196       242       3  881250949\n",
              "1      186       302       3  891717742\n",
              "2       22       377       1  878887116\n",
              "3      244        51       2  880606923\n",
              "4      166       346       1  886397596"
            ]
          },
          "metadata": {},
          "execution_count": 6
        }
      ]
    },
    {
      "cell_type": "code",
      "source": [
        "user_df = pd.read_csv('ml-100k/u.user', sep='|', encoding='latin-1',\n",
        "                     names=['user_id', 'age', 'gender', 'occupation', 'zip_code'])"
      ],
      "metadata": {
        "id": "URg4gIg3ePom"
      },
      "execution_count": 7,
      "outputs": []
    },
    {
      "cell_type": "code",
      "source": [
        "user_df.sample(6)"
      ],
      "metadata": {
        "id": "lzAKKdXKeP7C",
        "outputId": "91d020ee-ad79-45ec-c3f8-d320bf2c1c24",
        "colab": {
          "base_uri": "https://localhost:8080/",
          "height": 238
        }
      },
      "execution_count": 8,
      "outputs": [
        {
          "output_type": "execute_result",
          "data": {
            "text/html": [
              "<div>\n",
              "<style scoped>\n",
              "    .dataframe tbody tr th:only-of-type {\n",
              "        vertical-align: middle;\n",
              "    }\n",
              "\n",
              "    .dataframe tbody tr th {\n",
              "        vertical-align: top;\n",
              "    }\n",
              "\n",
              "    .dataframe thead th {\n",
              "        text-align: right;\n",
              "    }\n",
              "</style>\n",
              "<table border=\"1\" class=\"dataframe\">\n",
              "  <thead>\n",
              "    <tr style=\"text-align: right;\">\n",
              "      <th></th>\n",
              "      <th>user_id</th>\n",
              "      <th>age</th>\n",
              "      <th>gender</th>\n",
              "      <th>occupation</th>\n",
              "      <th>zip_code</th>\n",
              "    </tr>\n",
              "  </thead>\n",
              "  <tbody>\n",
              "    <tr>\n",
              "      <th>425</th>\n",
              "      <td>426</td>\n",
              "      <td>55</td>\n",
              "      <td>M</td>\n",
              "      <td>educator</td>\n",
              "      <td>01602</td>\n",
              "    </tr>\n",
              "    <tr>\n",
              "      <th>542</th>\n",
              "      <td>543</td>\n",
              "      <td>33</td>\n",
              "      <td>M</td>\n",
              "      <td>scientist</td>\n",
              "      <td>95123</td>\n",
              "    </tr>\n",
              "    <tr>\n",
              "      <th>431</th>\n",
              "      <td>432</td>\n",
              "      <td>22</td>\n",
              "      <td>M</td>\n",
              "      <td>entertainment</td>\n",
              "      <td>50311</td>\n",
              "    </tr>\n",
              "    <tr>\n",
              "      <th>914</th>\n",
              "      <td>915</td>\n",
              "      <td>50</td>\n",
              "      <td>M</td>\n",
              "      <td>entertainment</td>\n",
              "      <td>60614</td>\n",
              "    </tr>\n",
              "    <tr>\n",
              "      <th>369</th>\n",
              "      <td>370</td>\n",
              "      <td>52</td>\n",
              "      <td>M</td>\n",
              "      <td>writer</td>\n",
              "      <td>08534</td>\n",
              "    </tr>\n",
              "    <tr>\n",
              "      <th>725</th>\n",
              "      <td>726</td>\n",
              "      <td>25</td>\n",
              "      <td>F</td>\n",
              "      <td>administrator</td>\n",
              "      <td>80538</td>\n",
              "    </tr>\n",
              "  </tbody>\n",
              "</table>\n",
              "</div>"
            ],
            "text/plain": [
              "     user_id  age gender     occupation zip_code\n",
              "425      426   55      M       educator    01602\n",
              "542      543   33      M      scientist    95123\n",
              "431      432   22      M  entertainment    50311\n",
              "914      915   50      M  entertainment    60614\n",
              "369      370   52      M         writer    08534\n",
              "725      726   25      F  administrator    80538"
            ]
          },
          "metadata": {},
          "execution_count": 8
        }
      ]
    },
    {
      "cell_type": "code",
      "source": [
        "user_df['age_group'] = user_df.age.apply(lambda age: 'Gradeschooler' if 5<=age<=12 else ('Teenager' if 13<=age<=19 else ('Young' if 20<=age<=35 else ('Midlife' if 35<=age<=55 else 'Old'))))\n",
        "user_df.sample(5)"
      ],
      "metadata": {
        "id": "I5SrUX_OeQDy",
        "outputId": "1109be7d-45a7-4b81-d8ae-1a24f3d4ad3e",
        "colab": {
          "base_uri": "https://localhost:8080/",
          "height": 206
        }
      },
      "execution_count": 9,
      "outputs": [
        {
          "output_type": "execute_result",
          "data": {
            "text/html": [
              "<div>\n",
              "<style scoped>\n",
              "    .dataframe tbody tr th:only-of-type {\n",
              "        vertical-align: middle;\n",
              "    }\n",
              "\n",
              "    .dataframe tbody tr th {\n",
              "        vertical-align: top;\n",
              "    }\n",
              "\n",
              "    .dataframe thead th {\n",
              "        text-align: right;\n",
              "    }\n",
              "</style>\n",
              "<table border=\"1\" class=\"dataframe\">\n",
              "  <thead>\n",
              "    <tr style=\"text-align: right;\">\n",
              "      <th></th>\n",
              "      <th>user_id</th>\n",
              "      <th>age</th>\n",
              "      <th>gender</th>\n",
              "      <th>occupation</th>\n",
              "      <th>zip_code</th>\n",
              "      <th>age_group</th>\n",
              "    </tr>\n",
              "  </thead>\n",
              "  <tbody>\n",
              "    <tr>\n",
              "      <th>253</th>\n",
              "      <td>254</td>\n",
              "      <td>44</td>\n",
              "      <td>M</td>\n",
              "      <td>educator</td>\n",
              "      <td>42647</td>\n",
              "      <td>Midlife</td>\n",
              "    </tr>\n",
              "    <tr>\n",
              "      <th>432</th>\n",
              "      <td>433</td>\n",
              "      <td>27</td>\n",
              "      <td>M</td>\n",
              "      <td>artist</td>\n",
              "      <td>11211</td>\n",
              "      <td>Young</td>\n",
              "    </tr>\n",
              "    <tr>\n",
              "      <th>486</th>\n",
              "      <td>487</td>\n",
              "      <td>22</td>\n",
              "      <td>M</td>\n",
              "      <td>engineer</td>\n",
              "      <td>92121</td>\n",
              "      <td>Young</td>\n",
              "    </tr>\n",
              "    <tr>\n",
              "      <th>835</th>\n",
              "      <td>836</td>\n",
              "      <td>44</td>\n",
              "      <td>M</td>\n",
              "      <td>artist</td>\n",
              "      <td>10018</td>\n",
              "      <td>Midlife</td>\n",
              "    </tr>\n",
              "    <tr>\n",
              "      <th>313</th>\n",
              "      <td>314</td>\n",
              "      <td>20</td>\n",
              "      <td>F</td>\n",
              "      <td>student</td>\n",
              "      <td>08043</td>\n",
              "      <td>Young</td>\n",
              "    </tr>\n",
              "  </tbody>\n",
              "</table>\n",
              "</div>"
            ],
            "text/plain": [
              "     user_id  age gender occupation zip_code age_group\n",
              "253      254   44      M   educator    42647   Midlife\n",
              "432      433   27      M     artist    11211     Young\n",
              "486      487   22      M   engineer    92121     Young\n",
              "835      836   44      M     artist    10018   Midlife\n",
              "313      314   20      F    student    08043     Young"
            ]
          },
          "metadata": {},
          "execution_count": 9
        }
      ]
    },
    {
      "cell_type": "code",
      "source": [
        "movie_df = pd.read_csv('ml-100k/u.item', sep='|', encoding='latin-1',\n",
        "                    names=['movie_id', 'movie_title', 'release_date', 'video_release_date', 'imdb_url', 'unknown', 'action', \n",
        "                           'adventure', 'animation', 'childrens', 'comedy', 'crime', 'documentary', 'drama', 'fantasy', \n",
        "                           'film_noir', 'horror', 'musical', 'mystery', 'romance', 'sci_fi', 'thriller', 'war', 'western'])"
      ],
      "metadata": {
        "id": "z3J8vL8PeQGF"
      },
      "execution_count": 10,
      "outputs": []
    },
    {
      "cell_type": "code",
      "source": [
        "r_cols = ['user_id', 'movie_id', 'rating']\n",
        "ratings = pd.read_csv('ml-100k/u.data', sep='\\t', names=r_cols, usecols=range(3))\n",
        "\n",
        "m_cols = ['movie_id', 'title']\n",
        "movies = pd.read_csv('ml-100k/u.item', sep='|', names=m_cols, usecols=range(2), encoding='latin-1')\n",
        "\n",
        "ratings = pd.merge(movies, ratings)"
      ],
      "metadata": {
        "id": "7RpWGAqDezhO"
      },
      "execution_count": 11,
      "outputs": []
    },
    {
      "cell_type": "code",
      "source": [
        "rating_user_df = ratings.join(other=user_df, how='inner', on='user_id', lsuffix='_R')\n",
        "rating_user_movie_df = rating_user_df.join(other=movie_df, how='inner', on='movie_id', rsuffix='_M')\n",
        "rating_movie_df = ratings.join(other=movie_df, how='inner', on='movie_id', rsuffix='_M')"
      ],
      "metadata": {
        "id": "kOnjdPCrezj6"
      },
      "execution_count": 12,
      "outputs": []
    },
    {
      "cell_type": "code",
      "source": [
        "import seaborn as sns\n",
        "from datetime import datetime\n",
        "from wordcloud import WordCloud\n",
        "import tensorflow as tf\n",
        "import keras\n",
        "from pprint import pprint\n",
        "from sklearn.model_selection import train_test_split\n",
        "from sklearn.preprocessing import LabelEncoder"
      ],
      "metadata": {
        "id": "8qeVbREkf3mM"
      },
      "execution_count": 13,
      "outputs": []
    },
    {
      "cell_type": "code",
      "source": [
        "generes = ['unknown', 'action',\n",
        "       'adventure', 'animation', 'childrens', 'comedy', 'crime', 'documentary',\n",
        "       'drama', 'fantasy', 'film_noir', 'horror', 'musical', 'mystery',\n",
        "       'romance', 'sci_fi', 'thriller', 'war', 'western']\n",
        "\n",
        "plt.figure(figsize=(12,7))\n",
        "genere_counts = movie_df.loc[:,generes].sum().sort_values(ascending=False)\n",
        "sns.barplot(x=genere_counts.index, y=genere_counts.values)\n",
        "plt.xticks(rotation=60);"
      ],
      "metadata": {
        "id": "0BVZW1K1ezmW",
        "outputId": "d74ee584-ba3b-4511-ed88-c45f8f24cdf9",
        "colab": {
          "base_uri": "https://localhost:8080/",
          "height": 481
        }
      },
      "execution_count": 14,
      "outputs": [
        {
          "output_type": "display_data",
          "data": {
            "image/png": "[encoded data removed]",
            "text/plain": [
              "<Figure size 864x504 with 1 Axes>"
            ]
          },
          "metadata": {
            "needs_background": "light"
          }
        }
      ]
    },
    {
      "cell_type": "code",
      "source": [
        "plt.figure(figsize=(9,6))\n",
        "sns.barplot(user_df.groupby('gender').size().index, user_df.groupby('gender').size().values)\n",
        "plt.title('Male/Female movie rating ratio');"
      ],
      "metadata": {
        "id": "FbBVcR_uezo5",
        "outputId": "27c0a316-3f08-4392-af96-39f1ae59038d",
        "colab": {
          "base_uri": "https://localhost:8080/",
          "height": 459
        }
      },
      "execution_count": 15,
      "outputs": [
        {
          "output_type": "stream",
          "name": "stderr",
          "text": [
            "/usr/local/lib/python3.7/dist-packages/seaborn/_decorators.py:43: FutureWarning: Pass the following variables as keyword args: x, y. From version 0.12, the only valid positional argument will be `data`, and passing other arguments without an explicit keyword will result in an error or misinterpretation.\n",
            "  FutureWarning\n"
          ]
        },
        {
          "output_type": "display_data",
          "data": {
            "image/png": "[encoded data removed]",
            "text/plain": [
              "<Figure size 648x432 with 1 Axes>"
            ]
          },
          "metadata": {
            "needs_background": "light"
          }
        }
      ]
    },
    {
      "cell_type": "code",
      "source": [
        "plt.figure(figsize=(9,6))\n",
        "sns.barplot(user_df.groupby('age_group').size().index, user_df.groupby('age_group').size().values)\n",
        "plt.title('movie watchers age_group wise');"
      ],
      "metadata": {
        "id": "22m2Em5yezrd",
        "outputId": "8fd39123-5fbf-459e-864a-8fbeeceba587",
        "colab": {
          "base_uri": "https://localhost:8080/",
          "height": 459
        }
      },
      "execution_count": 16,
      "outputs": [
        {
          "output_type": "stream",
          "name": "stderr",
          "text": [
            "/usr/local/lib/python3.7/dist-packages/seaborn/_decorators.py:43: FutureWarning: Pass the following variables as keyword args: x, y. From version 0.12, the only valid positional argument will be `data`, and passing other arguments without an explicit keyword will result in an error or misinterpretation.\n",
            "  FutureWarning\n"
          ]
        },
        {
          "output_type": "display_data",
          "data": {
            "image/png": "[encoded data removed]",
            "text/plain": [
              "<Figure size 648x432 with 1 Axes>"
            ]
          },
          "metadata": {
            "needs_background": "light"
          }
        }
      ]
    },
    {
      "cell_type": "code",
      "source": [
        "plt.figure(figsize=(12,7))\n",
        "movie_watcher_occupants = user_df.groupby('occupation').size().sort_values(ascending=False)\n",
        "sns.barplot(movie_watcher_occupants.index, movie_watcher_occupants.values)\n",
        "plt.title('movie watchers age_group wise')\n",
        "plt.xticks(rotation=50);"
      ],
      "metadata": {
        "id": "deVb2vs7ezuN",
        "outputId": "e26f0519-d8fb-4c12-dcae-9698712166e0",
        "colab": {
          "base_uri": "https://localhost:8080/",
          "height": 565
        }
      },
      "execution_count": 17,
      "outputs": [
        {
          "output_type": "stream",
          "name": "stderr",
          "text": [
            "/usr/local/lib/python3.7/dist-packages/seaborn/_decorators.py:43: FutureWarning: Pass the following variables as keyword args: x, y. From version 0.12, the only valid positional argument will be `data`, and passing other arguments without an explicit keyword will result in an error or misinterpretation.\n",
            "  FutureWarning\n"
          ]
        },
        {
          "output_type": "display_data",
          "data": {
            "image/png": "[encoded data removed]",
            "text/plain": [
              "<Figure size 864x504 with 1 Axes>"
            ]
          },
          "metadata": {
            "needs_background": "light"
          }
        }
      ]
    },
    {
      "cell_type": "code",
      "source": [
        "pd.DataFrame(user_df.groupby(['occupation', 'age_group']).size().sort_values(ascending=False))\n"
      ],
      "metadata": {
        "id": "0mZAjB79eQI7",
        "outputId": "8653c9bd-8559-4256-ccd0-d868aa9e53e5",
        "colab": {
          "base_uri": "https://localhost:8080/",
          "height": 455
        }
      },
      "execution_count": 18,
      "outputs": [
        {
          "output_type": "execute_result",
          "data": {
            "text/html": [
              "<div>\n",
              "<style scoped>\n",
              "    .dataframe tbody tr th:only-of-type {\n",
              "        vertical-align: middle;\n",
              "    }\n",
              "\n",
              "    .dataframe tbody tr th {\n",
              "        vertical-align: top;\n",
              "    }\n",
              "\n",
              "    .dataframe thead th {\n",
              "        text-align: right;\n",
              "    }\n",
              "</style>\n",
              "<table border=\"1\" class=\"dataframe\">\n",
              "  <thead>\n",
              "    <tr style=\"text-align: right;\">\n",
              "      <th></th>\n",
              "      <th></th>\n",
              "      <th>0</th>\n",
              "    </tr>\n",
              "    <tr>\n",
              "      <th>occupation</th>\n",
              "      <th>age_group</th>\n",
              "      <th></th>\n",
              "    </tr>\n",
              "  </thead>\n",
              "  <tbody>\n",
              "    <tr>\n",
              "      <th rowspan=\"2\" valign=\"top\">student</th>\n",
              "      <th>Young</th>\n",
              "      <td>128</td>\n",
              "    </tr>\n",
              "    <tr>\n",
              "      <th>Teenager</th>\n",
              "      <td>62</td>\n",
              "    </tr>\n",
              "    <tr>\n",
              "      <th>other</th>\n",
              "      <th>Young</th>\n",
              "      <td>59</td>\n",
              "    </tr>\n",
              "    <tr>\n",
              "      <th>educator</th>\n",
              "      <th>Midlife</th>\n",
              "      <td>51</td>\n",
              "    </tr>\n",
              "    <tr>\n",
              "      <th>programmer</th>\n",
              "      <th>Young</th>\n",
              "      <td>45</td>\n",
              "    </tr>\n",
              "    <tr>\n",
              "      <th>...</th>\n",
              "      <th>...</th>\n",
              "      <td>...</td>\n",
              "    </tr>\n",
              "    <tr>\n",
              "      <th>doctor</th>\n",
              "      <th>Old</th>\n",
              "      <td>1</td>\n",
              "    </tr>\n",
              "    <tr>\n",
              "      <th>none</th>\n",
              "      <th>Midlife</th>\n",
              "      <td>1</td>\n",
              "    </tr>\n",
              "    <tr>\n",
              "      <th>artist</th>\n",
              "      <th>Teenager</th>\n",
              "      <td>1</td>\n",
              "    </tr>\n",
              "    <tr>\n",
              "      <th>retired</th>\n",
              "      <th>Midlife</th>\n",
              "      <td>1</td>\n",
              "    </tr>\n",
              "    <tr>\n",
              "      <th>salesman</th>\n",
              "      <th>Teenager</th>\n",
              "      <td>1</td>\n",
              "    </tr>\n",
              "  </tbody>\n",
              "</table>\n",
              "<p>62 rows × 1 columns</p>\n",
              "</div>"
            ],
            "text/plain": [
              "                        0\n",
              "occupation age_group     \n",
              "student    Young      128\n",
              "           Teenager    62\n",
              "other      Young       59\n",
              "educator   Midlife     51\n",
              "programmer Young       45\n",
              "...                   ...\n",
              "doctor     Old          1\n",
              "none       Midlife      1\n",
              "artist     Teenager     1\n",
              "retired    Midlife      1\n",
              "salesman   Teenager     1\n",
              "\n",
              "[62 rows x 1 columns]"
            ]
          },
          "metadata": {},
          "execution_count": 18
        }
      ]
    },
    {
      "cell_type": "code",
      "source": [
        "temp_df = rating_user_movie_df.groupby('gender').sum().loc[:,generes]\n",
        "temp_df = temp_df.transpose()\n",
        "temp_df"
      ],
      "metadata": {
        "id": "TpH4kv2LgVbw",
        "outputId": "e7eb6c4d-fbed-4ac4-d903-a77f1a6d7b81",
        "colab": {
          "base_uri": "https://localhost:8080/",
          "height": 645
        }
      },
      "execution_count": 19,
      "outputs": [
        {
          "output_type": "execute_result",
          "data": {
            "text/html": [
              "<div>\n",
              "<style scoped>\n",
              "    .dataframe tbody tr th:only-of-type {\n",
              "        vertical-align: middle;\n",
              "    }\n",
              "\n",
              "    .dataframe tbody tr th {\n",
              "        vertical-align: top;\n",
              "    }\n",
              "\n",
              "    .dataframe thead th {\n",
              "        text-align: right;\n",
              "    }\n",
              "</style>\n",
              "<table border=\"1\" class=\"dataframe\">\n",
              "  <thead>\n",
              "    <tr style=\"text-align: right;\">\n",
              "      <th>gender</th>\n",
              "      <th>F</th>\n",
              "      <th>M</th>\n",
              "    </tr>\n",
              "  </thead>\n",
              "  <tbody>\n",
              "    <tr>\n",
              "      <th>unknown</th>\n",
              "      <td>12</td>\n",
              "      <td>26</td>\n",
              "    </tr>\n",
              "    <tr>\n",
              "      <th>action</th>\n",
              "      <td>6297</td>\n",
              "      <td>14761</td>\n",
              "    </tr>\n",
              "    <tr>\n",
              "      <th>adventure</th>\n",
              "      <td>3451</td>\n",
              "      <td>8256</td>\n",
              "    </tr>\n",
              "    <tr>\n",
              "      <th>animation</th>\n",
              "      <td>1143</td>\n",
              "      <td>2665</td>\n",
              "    </tr>\n",
              "    <tr>\n",
              "      <th>childrens</th>\n",
              "      <td>2433</td>\n",
              "      <td>5809</td>\n",
              "    </tr>\n",
              "    <tr>\n",
              "      <th>comedy</th>\n",
              "      <td>9437</td>\n",
              "      <td>22131</td>\n",
              "    </tr>\n",
              "    <tr>\n",
              "      <th>crime</th>\n",
              "      <td>2342</td>\n",
              "      <td>5429</td>\n",
              "    </tr>\n",
              "    <tr>\n",
              "      <th>documentary</th>\n",
              "      <td>526</td>\n",
              "      <td>1188</td>\n",
              "    </tr>\n",
              "    <tr>\n",
              "      <th>drama</th>\n",
              "      <td>11523</td>\n",
              "      <td>27333</td>\n",
              "    </tr>\n",
              "    <tr>\n",
              "      <th>fantasy</th>\n",
              "      <td>407</td>\n",
              "      <td>1025</td>\n",
              "    </tr>\n",
              "    <tr>\n",
              "      <th>film_noir</th>\n",
              "      <td>543</td>\n",
              "      <td>1373</td>\n",
              "    </tr>\n",
              "    <tr>\n",
              "      <th>horror</th>\n",
              "      <td>1914</td>\n",
              "      <td>4748</td>\n",
              "    </tr>\n",
              "    <tr>\n",
              "      <th>musical</th>\n",
              "      <td>1394</td>\n",
              "      <td>3371</td>\n",
              "    </tr>\n",
              "    <tr>\n",
              "      <th>mystery</th>\n",
              "      <td>1341</td>\n",
              "      <td>3066</td>\n",
              "    </tr>\n",
              "    <tr>\n",
              "      <th>romance</th>\n",
              "      <td>4920</td>\n",
              "      <td>11275</td>\n",
              "    </tr>\n",
              "    <tr>\n",
              "      <th>sci_fi</th>\n",
              "      <td>3084</td>\n",
              "      <td>7224</td>\n",
              "    </tr>\n",
              "    <tr>\n",
              "      <th>thriller</th>\n",
              "      <td>5421</td>\n",
              "      <td>12574</td>\n",
              "    </tr>\n",
              "    <tr>\n",
              "      <th>war</th>\n",
              "      <td>2149</td>\n",
              "      <td>5105</td>\n",
              "    </tr>\n",
              "    <tr>\n",
              "      <th>western</th>\n",
              "      <td>797</td>\n",
              "      <td>1899</td>\n",
              "    </tr>\n",
              "  </tbody>\n",
              "</table>\n",
              "</div>"
            ],
            "text/plain": [
              "gender           F      M\n",
              "unknown         12     26\n",
              "action        6297  14761\n",
              "adventure     3451   8256\n",
              "animation     1143   2665\n",
              "childrens     2433   5809\n",
              "comedy        9437  22131\n",
              "crime         2342   5429\n",
              "documentary    526   1188\n",
              "drama        11523  27333\n",
              "fantasy        407   1025\n",
              "film_noir      543   1373\n",
              "horror        1914   4748\n",
              "musical       1394   3371\n",
              "mystery       1341   3066\n",
              "romance       4920  11275\n",
              "sci_fi        3084   7224\n",
              "thriller      5421  12574\n",
              "war           2149   5105\n",
              "western        797   1899"
            ]
          },
          "metadata": {},
          "execution_count": 19
        }
      ]
    },
    {
      "cell_type": "code",
      "source": [
        "plt.figure(figsize=(12, 6))\n",
        "\n",
        "temp_df.M.sort_values(ascending=False).plot(kind='bar', color='teal', label=\"Male\")\n",
        "temp_df.F.sort_values(ascending=False).plot(kind='bar', color='black', label=\"Fe-Male\")\n",
        "plt.legend()\n",
        "plt.xticks(rotation=60)\n",
        "plt.show()"
      ],
      "metadata": {
        "id": "hQoK-A1TgVeL",
        "outputId": "b946cc69-64c1-4b84-dd77-771b91c048ed",
        "colab": {
          "base_uri": "https://localhost:8080/",
          "height": 427
        }
      },
      "execution_count": 20,
      "outputs": [
        {
          "output_type": "display_data",
          "data": {
            "image/png": "[encoded data removed]",
            "text/plain": [
              "<Figure size 864x432 with 1 Axes>"
            ]
          },
          "metadata": {
            "needs_background": "light"
          }
        }
      ]
    },
    {
      "cell_type": "code",
      "source": [
        "plt.figure(figsize=(12, 6))\n",
        "m_temp_df = temp_df.M.sort_values(ascending=False)\n",
        "f_temp_df = temp_df.F.sort_values(ascending=False)\n",
        "\n",
        "plt.bar(x=m_temp_df.index, height=m_temp_df.values, label=\"Male\", align=\"edge\", width=0.3, color='teal')\n",
        "plt.bar(x=f_temp_df.index, height=f_temp_df.values, label=\"Female\", width=0.3, color='black')\n",
        "plt.legend()\n",
        "plt.xticks(rotation=60)\n",
        "plt.show()"
      ],
      "metadata": {
        "id": "3nctYswagVgY",
        "outputId": "0c206324-bbe3-4ed4-9ad1-51ae8b50091c",
        "colab": {
          "base_uri": "https://localhost:8080/",
          "height": 427
        }
      },
      "execution_count": 21,
      "outputs": [
        {
          "output_type": "display_data",
          "data": {
            "image/png": "[encoded data removed]",
            "text/plain": [
              "<Figure size 864x432 with 1 Axes>"
            ]
          },
          "metadata": {
            "needs_background": "light"
          }
        }
      ]
    },
    {
      "cell_type": "code",
      "source": [
        "temp_df = rating_user_df.groupby(['gender', 'rating']).size()\n",
        "plt.figure(figsize=(10, 5))\n",
        "m_temp_df = temp_df.M.sort_values(ascending=False)\n",
        "f_temp_df = temp_df.F.sort_values(ascending=False)\n",
        "\n",
        "plt.bar(x=m_temp_df.index, height=m_temp_df.values, label=\"Male\", align=\"edge\", width=0.3, color='teal')\n",
        "plt.bar(x=f_temp_df.index, height=f_temp_df.values, label=\"Female\", width=0.3, color='black')\n",
        "plt.title('Ratings given by Male/Female Viewers')\n",
        "plt.legend()\n",
        "plt.xlabel('Ratings')\n",
        "plt.ylabel('Count')\n",
        "plt.show()"
      ],
      "metadata": {
        "id": "s_JuPcZtgVjO",
        "colab": {
          "base_uri": "https://localhost:8080/",
          "height": 350
        },
        "outputId": "eccd67d2-8723-4d9a-ac91-7d91d85cb1c4"
      },
      "execution_count": 22,
      "outputs": [
        {
          "output_type": "display_data",
          "data": {
            "image/png": "[encoded data removed]",
            "text/plain": [
              "<Figure size 720x360 with 1 Axes>"
            ]
          },
          "metadata": {
            "needs_background": "light"
          }
        }
      ]
    },
    {
      "cell_type": "code",
      "source": [
        "def draw_horizontal_movie_bar(movie_titles, ratings_count, title=''):\n",
        "    plt.figure(figsize=(12, 7))\n",
        "    sns.barplot(y=movie_titles, x=ratings_count, orient='h')\n",
        "    plt.title(title)\n",
        "    plt.ylabel('Movies')\n",
        "    plt.xlabel('Count')\n",
        "    plt.show()"
      ],
      "metadata": {
        "id": "9z-sqjx4g9Y8"
      },
      "execution_count": 23,
      "outputs": []
    },
    {
      "cell_type": "code",
      "source": [
        "top_ten_rated_movies = rating_movie_df.groupby('movie_id').size().sort_values(ascending=False)[:10]\n",
        "top_ten_movie_titles = movie_df.iloc[top_ten_rated_movies.index].movie_title\n",
        "\n",
        "draw_horizontal_movie_bar(top_ten_movie_titles.values, top_ten_rated_movies.values, 'Top 10 watched movies')"
      ],
      "metadata": {
        "colab": {
          "base_uri": "https://localhost:8080/",
          "height": 458
        },
        "id": "9DJmdoHNg9kQ",
        "outputId": "1af39ce6-db0f-49c0-b90f-731ec620f40c"
      },
      "execution_count": 24,
      "outputs": [
        {
          "output_type": "display_data",
          "data": {
            "image/png": "[encoded data removed]",
            "text/plain": [
              "<Figure size 864x504 with 1 Axes>"
            ]
          },
          "metadata": {
            "needs_background": "light"
          }
        }
      ]
    },
    {
      "cell_type": "code",
      "source": [
        "top_ten_most_loved_movies = rating_movie_df.groupby('movie_id').sum().rating.sort_values(ascending=False)[:10]\n",
        "top_ten_most_loved_movie_titles = movie_df.iloc[top_ten_most_loved_movies.index].movie_title\n",
        "\n",
        "draw_horizontal_movie_bar(top_ten_most_loved_movie_titles.values, top_ten_most_loved_movies.values, 'Top 10 most loved movies')"
      ],
      "metadata": {
        "colab": {
          "base_uri": "https://localhost:8080/",
          "height": 458
        },
        "id": "SYN8l4QBhVQu",
        "outputId": "52d61324-f7d3-4d05-85d3-fcc8bb8d364f"
      },
      "execution_count": 25,
      "outputs": [
        {
          "output_type": "display_data",
          "data": {
            "image/png": "[encoded data removed]",
            "text/plain": [
              "<Figure size 864x504 with 1 Axes>"
            ]
          },
          "metadata": {
            "needs_background": "light"
          }
        }
      ]
    },
    {
      "cell_type": "code",
      "source": [
        ""
      ],
      "metadata": {
        "id": "TI5GDZ5EhVTf"
      },
      "execution_count": null,
      "outputs": []
    },
    {
      "cell_type": "code",
      "source": [
        ""
      ],
      "metadata": {
        "id": "Wh_kCRZ0hVXD"
      },
      "execution_count": null,
      "outputs": []
    },
    {
      "cell_type": "code",
      "source": [
        ""
      ],
      "metadata": {
        "id": "k5asXtjghVYp"
      },
      "execution_count": null,
      "outputs": []
    },
    {
      "cell_type": "markdown",
      "metadata": {
        "id": "PAp4VVTwR6Pz"
      },
      "source": [
        "Loading u.item     -- Information about the items (movies); this is a tab separated\n",
        "\n",
        "              list of\n",
        "              movie id | movie title | release date | video release date |\n",
        "              IMDb URL | unknown | Action | Adventure | Animation |\n",
        "              Children's | Comedy | Crime | Documentary | Drama | Fantasy |\n",
        "              Film-Noir | Horror | Musical | Mystery | Romance | Sci-Fi |\n",
        "              Thriller | War | Western |\n",
        "              The last 19 fields are the genres, a 1 indicates the movie\n",
        "              is of that genre, a 0 indicates it is not; movies can be in\n",
        "              several genres at once.\n",
        "              The movie ids are the ones used in the u.data data set.\n"
      ]
    },
    {
      "cell_type": "code",
      "metadata": {
        "id": "1qxF6i4zRMGj",
        "outputId": "4b53602b-82f1-4b43-9243-28639f36865b",
        "colab": {
          "base_uri": "https://localhost:8080/"
        }
      },
      "source": [
        "d = 'movie id | movie title | release date | video release date | IMDb URL | unknown | Action | Adventure | Animation | Children | Comedy | Crime | Documentary | Drama | Fantasy | Film-Noir | Horror | Musical | Mystery | Romance | Sci-Fi | Thriller | War | Western'\n",
        "column_names2 = d.split(' | ')\n",
        "print(column_names2)"
      ],
      "execution_count": 27,
      "outputs": [
        {
          "output_type": "stream",
          "name": "stdout",
          "text": [
            "['movie id', 'movie title', 'release date', 'video release date', 'IMDb URL', 'unknown', 'Action', 'Adventure', 'Animation', 'Children', 'Comedy', 'Crime', 'Documentary', 'Drama', 'Fantasy', 'Film-Noir', 'Horror', 'Musical', 'Mystery', 'Romance', 'Sci-Fi', 'Thriller', 'War', 'Western']\n"
          ]
        }
      ]
    },
    {
      "cell_type": "code",
      "metadata": {
        "id": "fZKhPm9dRqvR",
        "outputId": "f33e131b-4045-49fd-9e6f-f4dc4da17219",
        "colab": {
          "base_uri": "https://localhost:8080/",
          "height": 382
        }
      },
      "source": [
        "items_dataset = pd.read_csv('ml-100k/u.item', sep='|',header=None,names=column_names2,encoding='latin-1')\n",
        "items_dataset.head()"
      ],
      "execution_count": 28,
      "outputs": [
        {
          "output_type": "execute_result",
          "data": {
            "text/html": [
              "<div>\n",
              "<style scoped>\n",
              "    .dataframe tbody tr th:only-of-type {\n",
              "        vertical-align: middle;\n",
              "    }\n",
              "\n",
              "    .dataframe tbody tr th {\n",
              "        vertical-align: top;\n",
              "    }\n",
              "\n",
              "    .dataframe thead th {\n",
              "        text-align: right;\n",
              "    }\n",
              "</style>\n",
              "<table border=\"1\" class=\"dataframe\">\n",
              "  <thead>\n",
              "    <tr style=\"text-align: right;\">\n",
              "      <th></th>\n",
              "      <th>movie id</th>\n",
              "      <th>movie title</th>\n",
              "      <th>release date</th>\n",
              "      <th>video release date</th>\n",
              "      <th>IMDb URL</th>\n",
              "      <th>unknown</th>\n",
              "      <th>Action</th>\n",
              "      <th>Adventure</th>\n",
              "      <th>Animation</th>\n",
              "      <th>Children</th>\n",
              "      <th>Comedy</th>\n",
              "      <th>Crime</th>\n",
              "      <th>Documentary</th>\n",
              "      <th>Drama</th>\n",
              "      <th>Fantasy</th>\n",
              "      <th>Film-Noir</th>\n",
              "      <th>Horror</th>\n",
              "      <th>Musical</th>\n",
              "      <th>Mystery</th>\n",
              "      <th>Romance</th>\n",
              "      <th>Sci-Fi</th>\n",
              "      <th>Thriller</th>\n",
              "      <th>War</th>\n",
              "      <th>Western</th>\n",
              "    </tr>\n",
              "  </thead>\n",
              "  <tbody>\n",
              "    <tr>\n",
              "      <th>0</th>\n",
              "      <td>1</td>\n",
              "      <td>Toy Story (1995)</td>\n",
              "      <td>01-Jan-1995</td>\n",
              "      <td>NaN</td>\n",
              "      <td>http://us.imdb.com/M/title-exact?Toy%20Story%2...</td>\n",
              "      <td>0</td>\n",
              "      <td>0</td>\n",
              "      <td>0</td>\n",
              "      <td>1</td>\n",
              "      <td>1</td>\n",
              "      <td>1</td>\n",
              "      <td>0</td>\n",
              "      <td>0</td>\n",
              "      <td>0</td>\n",
              "      <td>0</td>\n",
              "      <td>0</td>\n",
              "      <td>0</td>\n",
              "      <td>0</td>\n",
              "      <td>0</td>\n",
              "      <td>0</td>\n",
              "      <td>0</td>\n",
              "      <td>0</td>\n",
              "      <td>0</td>\n",
              "      <td>0</td>\n",
              "    </tr>\n",
              "    <tr>\n",
              "      <th>1</th>\n",
              "      <td>2</td>\n",
              "      <td>GoldenEye (1995)</td>\n",
              "      <td>01-Jan-1995</td>\n",
              "      <td>NaN</td>\n",
              "      <td>http://us.imdb.com/M/title-exact?GoldenEye%20(...</td>\n",
              "      <td>0</td>\n",
              "      <td>1</td>\n",
              "      <td>1</td>\n",
              "      <td>0</td>\n",
              "      <td>0</td>\n",
              "      <td>0</td>\n",
              "      <td>0</td>\n",
              "      <td>0</td>\n",
              "      <td>0</td>\n",
              "      <td>0</td>\n",
              "      <td>0</td>\n",
              "      <td>0</td>\n",
              "      <td>0</td>\n",
              "      <td>0</td>\n",
              "      <td>0</td>\n",
              "      <td>0</td>\n",
              "      <td>1</td>\n",
              "      <td>0</td>\n",
              "      <td>0</td>\n",
              "    </tr>\n",
              "    <tr>\n",
              "      <th>2</th>\n",
              "      <td>3</td>\n",
              "      <td>Four Rooms (1995)</td>\n",
              "      <td>01-Jan-1995</td>\n",
              "      <td>NaN</td>\n",
              "      <td>http://us.imdb.com/M/title-exact?Four%20Rooms%...</td>\n",
              "      <td>0</td>\n",
              "      <td>0</td>\n",
              "      <td>0</td>\n",
              "      <td>0</td>\n",
              "      <td>0</td>\n",
              "      <td>0</td>\n",
              "      <td>0</td>\n",
              "      <td>0</td>\n",
              "      <td>0</td>\n",
              "      <td>0</td>\n",
              "      <td>0</td>\n",
              "      <td>0</td>\n",
              "      <td>0</td>\n",
              "      <td>0</td>\n",
              "      <td>0</td>\n",
              "      <td>0</td>\n",
              "      <td>1</td>\n",
              "      <td>0</td>\n",
              "      <td>0</td>\n",
              "    </tr>\n",
              "    <tr>\n",
              "      <th>3</th>\n",
              "      <td>4</td>\n",
              "      <td>Get Shorty (1995)</td>\n",
              "      <td>01-Jan-1995</td>\n",
              "      <td>NaN</td>\n",
              "      <td>http://us.imdb.com/M/title-exact?Get%20Shorty%...</td>\n",
              "      <td>0</td>\n",
              "      <td>1</td>\n",
              "      <td>0</td>\n",
              "      <td>0</td>\n",
              "      <td>0</td>\n",
              "      <td>1</td>\n",
              "      <td>0</td>\n",
              "      <td>0</td>\n",
              "      <td>1</td>\n",
              "      <td>0</td>\n",
              "      <td>0</td>\n",
              "      <td>0</td>\n",
              "      <td>0</td>\n",
              "      <td>0</td>\n",
              "      <td>0</td>\n",
              "      <td>0</td>\n",
              "      <td>0</td>\n",
              "      <td>0</td>\n",
              "      <td>0</td>\n",
              "    </tr>\n",
              "    <tr>\n",
              "      <th>4</th>\n",
              "      <td>5</td>\n",
              "      <td>Copycat (1995)</td>\n",
              "      <td>01-Jan-1995</td>\n",
              "      <td>NaN</td>\n",
              "      <td>http://us.imdb.com/M/title-exact?Copycat%20(1995)</td>\n",
              "      <td>0</td>\n",
              "      <td>0</td>\n",
              "      <td>0</td>\n",
              "      <td>0</td>\n",
              "      <td>0</td>\n",
              "      <td>0</td>\n",
              "      <td>1</td>\n",
              "      <td>0</td>\n",
              "      <td>1</td>\n",
              "      <td>0</td>\n",
              "      <td>0</td>\n",
              "      <td>0</td>\n",
              "      <td>0</td>\n",
              "      <td>0</td>\n",
              "      <td>0</td>\n",
              "      <td>0</td>\n",
              "      <td>1</td>\n",
              "      <td>0</td>\n",
              "      <td>0</td>\n",
              "    </tr>\n",
              "  </tbody>\n",
              "</table>\n",
              "</div>"
            ],
            "text/plain": [
              "   movie id        movie title release date  ...  Thriller War  Western\n",
              "0         1   Toy Story (1995)  01-Jan-1995  ...         0   0        0\n",
              "1         2   GoldenEye (1995)  01-Jan-1995  ...         1   0        0\n",
              "2         3  Four Rooms (1995)  01-Jan-1995  ...         1   0        0\n",
              "3         4  Get Shorty (1995)  01-Jan-1995  ...         0   0        0\n",
              "4         5     Copycat (1995)  01-Jan-1995  ...         1   0        0\n",
              "\n",
              "[5 rows x 24 columns]"
            ]
          },
          "metadata": {},
          "execution_count": 28
        }
      ]
    },
    {
      "cell_type": "code",
      "metadata": {
        "id": "zjMViWz_SDlJ",
        "outputId": "a48f9ddd-b2e0-4e6b-ff20-71ff2d5fb4ed",
        "colab": {
          "base_uri": "https://localhost:8080/",
          "height": 206
        }
      },
      "source": [
        "movie_dataset = items_dataset[['movie id','movie title']]\n",
        "movie_dataset.head()"
      ],
      "execution_count": 29,
      "outputs": [
        {
          "output_type": "execute_result",
          "data": {
            "text/html": [
              "<div>\n",
              "<style scoped>\n",
              "    .dataframe tbody tr th:only-of-type {\n",
              "        vertical-align: middle;\n",
              "    }\n",
              "\n",
              "    .dataframe tbody tr th {\n",
              "        vertical-align: top;\n",
              "    }\n",
              "\n",
              "    .dataframe thead th {\n",
              "        text-align: right;\n",
              "    }\n",
              "</style>\n",
              "<table border=\"1\" class=\"dataframe\">\n",
              "  <thead>\n",
              "    <tr style=\"text-align: right;\">\n",
              "      <th></th>\n",
              "      <th>movie id</th>\n",
              "      <th>movie title</th>\n",
              "    </tr>\n",
              "  </thead>\n",
              "  <tbody>\n",
              "    <tr>\n",
              "      <th>0</th>\n",
              "      <td>1</td>\n",
              "      <td>Toy Story (1995)</td>\n",
              "    </tr>\n",
              "    <tr>\n",
              "      <th>1</th>\n",
              "      <td>2</td>\n",
              "      <td>GoldenEye (1995)</td>\n",
              "    </tr>\n",
              "    <tr>\n",
              "      <th>2</th>\n",
              "      <td>3</td>\n",
              "      <td>Four Rooms (1995)</td>\n",
              "    </tr>\n",
              "    <tr>\n",
              "      <th>3</th>\n",
              "      <td>4</td>\n",
              "      <td>Get Shorty (1995)</td>\n",
              "    </tr>\n",
              "    <tr>\n",
              "      <th>4</th>\n",
              "      <td>5</td>\n",
              "      <td>Copycat (1995)</td>\n",
              "    </tr>\n",
              "  </tbody>\n",
              "</table>\n",
              "</div>"
            ],
            "text/plain": [
              "   movie id        movie title\n",
              "0         1   Toy Story (1995)\n",
              "1         2   GoldenEye (1995)\n",
              "2         3  Four Rooms (1995)\n",
              "3         4  Get Shorty (1995)\n",
              "4         5     Copycat (1995)"
            ]
          },
          "metadata": {},
          "execution_count": 29
        }
      ]
    },
    {
      "cell_type": "markdown",
      "metadata": {
        "id": "hEsztTxjSiZA"
      },
      "source": [
        "Looking at length of original items_dataset and length of unique combination of rows in items_dataset after removing movie id column"
      ]
    },
    {
      "cell_type": "code",
      "metadata": {
        "id": "sdzz8nUySG_q",
        "outputId": "a01a70f3-0e79-41af-8e6b-f52e363abc2e",
        "colab": {
          "base_uri": "https://localhost:8080/"
        }
      },
      "source": [
        "## looking at length of original items_dataset and length of unique combination of rows in items_dataset after removing movie id column\n",
        "len(items_dataset.groupby(by=column_names2[1:])),len(items_dataset)"
      ],
      "execution_count": 30,
      "outputs": [
        {
          "output_type": "execute_result",
          "data": {
            "text/plain": [
              "(1664, 1682)"
            ]
          },
          "metadata": {},
          "execution_count": 30
        }
      ]
    },
    {
      "cell_type": "markdown",
      "metadata": {
        "id": "zcsMvVNrS82A"
      },
      "source": [
        "We can see there are 18 extra movie id's for already mapped movie title and the same duplicate movie id is assigned to the user in the user-item dataset."
      ]
    },
    {
      "cell_type": "markdown",
      "metadata": {
        "id": "V1vln0JRTA9J"
      },
      "source": [
        "#Merging required datasets"
      ]
    },
    {
      "cell_type": "code",
      "metadata": {
        "id": "IBOXHTmvS6Ex",
        "outputId": "0ca85678-ae9a-4acf-b1c2-00142de3f7fb",
        "colab": {
          "base_uri": "https://localhost:8080/",
          "height": 206
        }
      },
      "source": [
        "merged_dataset = pd.merge(ratings_dataset, movie_dataset, how='inner', on='movie id')\n",
        "merged_dataset.head()"
      ],
      "execution_count": 31,
      "outputs": [
        {
          "output_type": "execute_result",
          "data": {
            "text/html": [
              "<div>\n",
              "<style scoped>\n",
              "    .dataframe tbody tr th:only-of-type {\n",
              "        vertical-align: middle;\n",
              "    }\n",
              "\n",
              "    .dataframe tbody tr th {\n",
              "        vertical-align: top;\n",
              "    }\n",
              "\n",
              "    .dataframe thead th {\n",
              "        text-align: right;\n",
              "    }\n",
              "</style>\n",
              "<table border=\"1\" class=\"dataframe\">\n",
              "  <thead>\n",
              "    <tr style=\"text-align: right;\">\n",
              "      <th></th>\n",
              "      <th>user id</th>\n",
              "      <th>movie id</th>\n",
              "      <th>rating</th>\n",
              "      <th>timestamp</th>\n",
              "      <th>movie title</th>\n",
              "    </tr>\n",
              "  </thead>\n",
              "  <tbody>\n",
              "    <tr>\n",
              "      <th>0</th>\n",
              "      <td>196</td>\n",
              "      <td>242</td>\n",
              "      <td>3</td>\n",
              "      <td>881250949</td>\n",
              "      <td>Kolya (1996)</td>\n",
              "    </tr>\n",
              "    <tr>\n",
              "      <th>1</th>\n",
              "      <td>63</td>\n",
              "      <td>242</td>\n",
              "      <td>3</td>\n",
              "      <td>875747190</td>\n",
              "      <td>Kolya (1996)</td>\n",
              "    </tr>\n",
              "    <tr>\n",
              "      <th>2</th>\n",
              "      <td>226</td>\n",
              "      <td>242</td>\n",
              "      <td>5</td>\n",
              "      <td>883888671</td>\n",
              "      <td>Kolya (1996)</td>\n",
              "    </tr>\n",
              "    <tr>\n",
              "      <th>3</th>\n",
              "      <td>154</td>\n",
              "      <td>242</td>\n",
              "      <td>3</td>\n",
              "      <td>879138235</td>\n",
              "      <td>Kolya (1996)</td>\n",
              "    </tr>\n",
              "    <tr>\n",
              "      <th>4</th>\n",
              "      <td>306</td>\n",
              "      <td>242</td>\n",
              "      <td>5</td>\n",
              "      <td>876503793</td>\n",
              "      <td>Kolya (1996)</td>\n",
              "    </tr>\n",
              "  </tbody>\n",
              "</table>\n",
              "</div>"
            ],
            "text/plain": [
              "   user id  movie id  rating  timestamp   movie title\n",
              "0      196       242       3  881250949  Kolya (1996)\n",
              "1       63       242       3  875747190  Kolya (1996)\n",
              "2      226       242       5  883888671  Kolya (1996)\n",
              "3      154       242       3  879138235  Kolya (1996)\n",
              "4      306       242       5  876503793  Kolya (1996)"
            ]
          },
          "metadata": {},
          "execution_count": 31
        }
      ]
    },
    {
      "cell_type": "markdown",
      "metadata": {
        "id": "qlTqLn-mTUCV"
      },
      "source": [
        "A dataset is created from the existing merged dataset by grouping the unique user id and movie title combination and the ratings by a user to the same movie in different instances (timestamps) are averaged and stored in the new dataset."
      ]
    },
    {
      "cell_type": "markdown",
      "metadata": {
        "id": "U6wjxXe7TeIO"
      },
      "source": [
        "Example of a multiple rating scenario by an user to a specific movie:"
      ]
    },
    {
      "cell_type": "code",
      "metadata": {
        "id": "xKgq_aXmTDft",
        "outputId": "4b25bacd-86d8-467b-b49a-b460ec699414",
        "colab": {
          "base_uri": "https://localhost:8080/",
          "height": 112
        }
      },
      "source": [
        "merged_dataset[(merged_dataset['movie title'] == 'Chasing Amy (1997)') & (merged_dataset['user id'] == 894)]"
      ],
      "execution_count": 32,
      "outputs": [
        {
          "output_type": "execute_result",
          "data": {
            "text/html": [
              "<div>\n",
              "<style scoped>\n",
              "    .dataframe tbody tr th:only-of-type {\n",
              "        vertical-align: middle;\n",
              "    }\n",
              "\n",
              "    .dataframe tbody tr th {\n",
              "        vertical-align: top;\n",
              "    }\n",
              "\n",
              "    .dataframe thead th {\n",
              "        text-align: right;\n",
              "    }\n",
              "</style>\n",
              "<table border=\"1\" class=\"dataframe\">\n",
              "  <thead>\n",
              "    <tr style=\"text-align: right;\">\n",
              "      <th></th>\n",
              "      <th>user id</th>\n",
              "      <th>movie id</th>\n",
              "      <th>rating</th>\n",
              "      <th>timestamp</th>\n",
              "      <th>movie title</th>\n",
              "    </tr>\n",
              "  </thead>\n",
              "  <tbody>\n",
              "    <tr>\n",
              "      <th>4800</th>\n",
              "      <td>894</td>\n",
              "      <td>246</td>\n",
              "      <td>4</td>\n",
              "      <td>882404137</td>\n",
              "      <td>Chasing Amy (1997)</td>\n",
              "    </tr>\n",
              "    <tr>\n",
              "      <th>22340</th>\n",
              "      <td>894</td>\n",
              "      <td>268</td>\n",
              "      <td>3</td>\n",
              "      <td>879896041</td>\n",
              "      <td>Chasing Amy (1997)</td>\n",
              "    </tr>\n",
              "  </tbody>\n",
              "</table>\n",
              "</div>"
            ],
            "text/plain": [
              "       user id  movie id  rating  timestamp         movie title\n",
              "4800       894       246       4  882404137  Chasing Amy (1997)\n",
              "22340      894       268       3  879896041  Chasing Amy (1997)"
            ]
          },
          "metadata": {},
          "execution_count": 32
        }
      ]
    },
    {
      "cell_type": "markdown",
      "metadata": {
        "id": "kuXOfYN-UQrP"
      },
      "source": [
        "## Creating a final refined dataset with unique user id, movie name combination and their ratings:\n"
      ]
    },
    {
      "cell_type": "code",
      "metadata": {
        "id": "gSybgvihTkgE",
        "outputId": "3fcf27d6-d2a6-4ccb-fc91-b1a6cdb51d99",
        "colab": {
          "base_uri": "https://localhost:8080/",
          "height": 206
        }
      },
      "source": [
        "refined_dataset = merged_dataset.groupby(by=['user id','movie title'], as_index=False).agg({\"rating\":\"mean\"})\n",
        "\n",
        "refined_dataset.head()"
      ],
      "execution_count": 33,
      "outputs": [
        {
          "output_type": "execute_result",
          "data": {
            "text/html": [
              "<div>\n",
              "<style scoped>\n",
              "    .dataframe tbody tr th:only-of-type {\n",
              "        vertical-align: middle;\n",
              "    }\n",
              "\n",
              "    .dataframe tbody tr th {\n",
              "        vertical-align: top;\n",
              "    }\n",
              "\n",
              "    .dataframe thead th {\n",
              "        text-align: right;\n",
              "    }\n",
              "</style>\n",
              "<table border=\"1\" class=\"dataframe\">\n",
              "  <thead>\n",
              "    <tr style=\"text-align: right;\">\n",
              "      <th></th>\n",
              "      <th>user id</th>\n",
              "      <th>movie title</th>\n",
              "      <th>rating</th>\n",
              "    </tr>\n",
              "  </thead>\n",
              "  <tbody>\n",
              "    <tr>\n",
              "      <th>0</th>\n",
              "      <td>1</td>\n",
              "      <td>101 Dalmatians (1996)</td>\n",
              "      <td>2.0</td>\n",
              "    </tr>\n",
              "    <tr>\n",
              "      <th>1</th>\n",
              "      <td>1</td>\n",
              "      <td>12 Angry Men (1957)</td>\n",
              "      <td>5.0</td>\n",
              "    </tr>\n",
              "    <tr>\n",
              "      <th>2</th>\n",
              "      <td>1</td>\n",
              "      <td>20,000 Leagues Under the Sea (1954)</td>\n",
              "      <td>3.0</td>\n",
              "    </tr>\n",
              "    <tr>\n",
              "      <th>3</th>\n",
              "      <td>1</td>\n",
              "      <td>2001: A Space Odyssey (1968)</td>\n",
              "      <td>4.0</td>\n",
              "    </tr>\n",
              "    <tr>\n",
              "      <th>4</th>\n",
              "      <td>1</td>\n",
              "      <td>Abyss, The (1989)</td>\n",
              "      <td>3.0</td>\n",
              "    </tr>\n",
              "  </tbody>\n",
              "</table>\n",
              "</div>"
            ],
            "text/plain": [
              "   user id                          movie title  rating\n",
              "0        1                101 Dalmatians (1996)     2.0\n",
              "1        1                  12 Angry Men (1957)     5.0\n",
              "2        1  20,000 Leagues Under the Sea (1954)     3.0\n",
              "3        1         2001: A Space Odyssey (1968)     4.0\n",
              "4        1                    Abyss, The (1989)     3.0"
            ]
          },
          "metadata": {},
          "execution_count": 33
        }
      ]
    },
    {
      "cell_type": "markdown",
      "metadata": {
        "id": "OVuuEkazUn20"
      },
      "source": [
        "## Encoding users and movie titles to make sure that the sequence has no missing values when dealing with Deep Neural Networks."
      ]
    },
    {
      "cell_type": "code",
      "metadata": {
        "id": "-X1Fvj3AUTjt"
      },
      "source": [
        "user_enc = LabelEncoder()\n",
        "refined_dataset['user'] = user_enc.fit_transform(refined_dataset['user id'].values)\n",
        "n_users = refined_dataset['user'].nunique()"
      ],
      "execution_count": 34,
      "outputs": []
    },
    {
      "cell_type": "code",
      "metadata": {
        "id": "3f2vtjifW662"
      },
      "source": [
        "item_enc = LabelEncoder()\n",
        "refined_dataset['movie'] = item_enc.fit_transform(refined_dataset['movie title'].values)\n",
        "n_movies = refined_dataset['movie'].nunique()"
      ],
      "execution_count": 35,
      "outputs": []
    },
    {
      "cell_type": "code",
      "metadata": {
        "id": "OeQb6BDbXUzI",
        "outputId": "b1eb741d-dbc1-485d-acf2-10b057d63eaf",
        "colab": {
          "base_uri": "https://localhost:8080/"
        }
      },
      "source": [
        "refined_dataset['rating'] = refined_dataset['rating'].values.astype(np.float32)\n",
        "min_rating = min(refined_dataset['rating'])\n",
        "max_rating = max(refined_dataset['rating'])\n",
        "n_users, n_movies, min_rating, max_rating"
      ],
      "execution_count": 36,
      "outputs": [
        {
          "output_type": "execute_result",
          "data": {
            "text/plain": [
              "(943, 1664, 1.0, 5.0)"
            ]
          },
          "metadata": {},
          "execution_count": 36
        }
      ]
    },
    {
      "cell_type": "code",
      "metadata": {
        "id": "2NLsO6VSXOD4",
        "outputId": "74388eca-d7d4-48bd-eda1-ae2ff65d0d41",
        "colab": {
          "base_uri": "https://localhost:8080/",
          "height": 206
        }
      },
      "source": [
        "refined_dataset.head()"
      ],
      "execution_count": 37,
      "outputs": [
        {
          "output_type": "execute_result",
          "data": {
            "text/html": [
              "<div>\n",
              "<style scoped>\n",
              "    .dataframe tbody tr th:only-of-type {\n",
              "        vertical-align: middle;\n",
              "    }\n",
              "\n",
              "    .dataframe tbody tr th {\n",
              "        vertical-align: top;\n",
              "    }\n",
              "\n",
              "    .dataframe thead th {\n",
              "        text-align: right;\n",
              "    }\n",
              "</style>\n",
              "<table border=\"1\" class=\"dataframe\">\n",
              "  <thead>\n",
              "    <tr style=\"text-align: right;\">\n",
              "      <th></th>\n",
              "      <th>user id</th>\n",
              "      <th>movie title</th>\n",
              "      <th>rating</th>\n",
              "      <th>user</th>\n",
              "      <th>movie</th>\n",
              "    </tr>\n",
              "  </thead>\n",
              "  <tbody>\n",
              "    <tr>\n",
              "      <th>0</th>\n",
              "      <td>1</td>\n",
              "      <td>101 Dalmatians (1996)</td>\n",
              "      <td>2.0</td>\n",
              "      <td>0</td>\n",
              "      <td>2</td>\n",
              "    </tr>\n",
              "    <tr>\n",
              "      <th>1</th>\n",
              "      <td>1</td>\n",
              "      <td>12 Angry Men (1957)</td>\n",
              "      <td>5.0</td>\n",
              "      <td>0</td>\n",
              "      <td>3</td>\n",
              "    </tr>\n",
              "    <tr>\n",
              "      <th>2</th>\n",
              "      <td>1</td>\n",
              "      <td>20,000 Leagues Under the Sea (1954)</td>\n",
              "      <td>3.0</td>\n",
              "      <td>0</td>\n",
              "      <td>6</td>\n",
              "    </tr>\n",
              "    <tr>\n",
              "      <th>3</th>\n",
              "      <td>1</td>\n",
              "      <td>2001: A Space Odyssey (1968)</td>\n",
              "      <td>4.0</td>\n",
              "      <td>0</td>\n",
              "      <td>7</td>\n",
              "    </tr>\n",
              "    <tr>\n",
              "      <th>4</th>\n",
              "      <td>1</td>\n",
              "      <td>Abyss, The (1989)</td>\n",
              "      <td>3.0</td>\n",
              "      <td>0</td>\n",
              "      <td>16</td>\n",
              "    </tr>\n",
              "  </tbody>\n",
              "</table>\n",
              "</div>"
            ],
            "text/plain": [
              "   user id                          movie title  rating  user  movie\n",
              "0        1                101 Dalmatians (1996)     2.0     0      2\n",
              "1        1                  12 Angry Men (1957)     5.0     0      3\n",
              "2        1  20,000 Leagues Under the Sea (1954)     3.0     0      6\n",
              "3        1         2001: A Space Odyssey (1968)     4.0     0      7\n",
              "4        1                    Abyss, The (1989)     3.0     0     16"
            ]
          },
          "metadata": {},
          "execution_count": 37
        }
      ]
    },
    {
      "cell_type": "markdown",
      "metadata": {
        "id": "3Vrfgd7TZ08C"
      },
      "source": [
        "## Splitting the data into training and testing"
      ]
    },
    {
      "cell_type": "code",
      "metadata": {
        "id": "9q04V-GnXPFs",
        "outputId": "3437b19b-d3b8-46c5-ac16-e24d55685aa8",
        "colab": {
          "base_uri": "https://localhost:8080/"
        }
      },
      "source": [
        "X = refined_dataset[['user', 'movie']].values\n",
        "y = refined_dataset['rating'].values\n",
        "X_train, X_test, y_train, y_test = train_test_split(X, y, test_size=0.1, random_state=50)\n",
        "X_train.shape, X_test.shape, y_train.shape, y_test.shape"
      ],
      "execution_count": 38,
      "outputs": [
        {
          "output_type": "execute_result",
          "data": {
            "text/plain": [
              "((89723, 2), (9970, 2), (89723,), (9970,))"
            ]
          },
          "metadata": {},
          "execution_count": 38
        }
      ]
    },
    {
      "cell_type": "markdown",
      "metadata": {
        "id": "y3s3cccxgGPy"
      },
      "source": [
        "## Defining number of factors which are to be considered by the Embedding layer"
      ]
    },
    {
      "cell_type": "code",
      "metadata": {
        "id": "zA39k64MaEfs"
      },
      "source": [
        "n_factors = 150"
      ],
      "execution_count": 39,
      "outputs": []
    },
    {
      "cell_type": "markdown",
      "metadata": {
        "id": "fcqGOsdZgaFY"
      },
      "source": [
        "Columns in the input array are split into two separate arrays. As Keras considers them as two distinct inputs, each input needs to be fed in as its own array."
      ]
    },
    {
      "cell_type": "code",
      "metadata": {
        "id": "83v-ulEIgS1l"
      },
      "source": [
        "X_train_array = [X_train[:, 0], X_train[:, 1]]\n",
        "X_test_array = [X_test[:, 0], X_test[:, 1]]"
      ],
      "execution_count": 40,
      "outputs": []
    },
    {
      "cell_type": "code",
      "metadata": {
        "id": "OpCiDWkexTkf",
        "outputId": "d11f1282-d635-4e47-c514-05d27d364ffd",
        "colab": {
          "base_uri": "https://localhost:8080/"
        }
      },
      "source": [
        "X_train, X_train_array, X_train_array[0].shape"
      ],
      "execution_count": 41,
      "outputs": [
        {
          "output_type": "execute_result",
          "data": {
            "text/plain": [
              "(array([[ 180, 1152],\n",
              "        [ 487,  389],\n",
              "        [ 177,  302],\n",
              "        ...,\n",
              "        [ 431, 1588],\n",
              "        [ 232,  399],\n",
              "        [ 138,  612]]),\n",
              " [array([180, 487, 177, ..., 431, 232, 138]),\n",
              "  array([1152,  389,  302, ..., 1588,  399,  612])],\n",
              " (89723,))"
            ]
          },
          "metadata": {},
          "execution_count": 41
        }
      ]
    },
    {
      "cell_type": "markdown",
      "metadata": {
        "id": "fgdqWxK1IDAg"
      },
      "source": [
        "## Normalizing the labels"
      ]
    },
    {
      "cell_type": "code",
      "metadata": {
        "id": "4POYLlXTIP7G"
      },
      "source": [
        "\n",
        "y_train = (y_train - min_rating)/(max_rating - min_rating)\n",
        "y_test = (y_test - min_rating)/(max_rating - min_rating)"
      ],
      "execution_count": 42,
      "outputs": []
    },
    {
      "cell_type": "markdown",
      "metadata": {
        "id": "C_sQMkI-m-i-"
      },
      "source": [
        "## Building a Softmax Deep Neural Network"
      ]
    },
    {
      "cell_type": "code",
      "metadata": {
        "id": "PRBTogiuhpmV"
      },
      "source": [
        "## Initializing a input layer for users\n",
        "user = tf.keras.layers.Input(shape = (1,))\n",
        "\n",
        "## Embedding layer for n_factors of users\n",
        "u = keras.layers.embeddings.Embedding(n_users, n_factors, embeddings_initializer = 'he_normal', embeddings_regularizer = tf.keras.regularizers.l2(1e-6))(user)\n",
        "u = tf.keras.layers.Reshape((n_factors,))(u)\n",
        "\n",
        "## Initializing a input layer for movies\n",
        "movie = tf.keras.layers.Input(shape = (1,))\n",
        "\n",
        "## Embedding layer for n_factors of movies\n",
        "m = keras.layers.embeddings.Embedding(n_movies, n_factors, embeddings_initializer = 'he_normal', embeddings_regularizer=tf.keras.regularizers.l2(1e-6))(movie)\n",
        "m = tf.keras.layers.Reshape((n_factors,))(m)\n",
        "\n",
        "## stacking up both user and movie embeddings\n",
        "x = tf.keras.layers.Concatenate()([u,m])\n",
        "x = tf.keras.layers.Dropout(0.05)(x)\n",
        "\n",
        "## Adding a Dense layer to the architecture\n",
        "x = tf.keras.layers.Dense(32, kernel_initializer='he_normal')(x)\n",
        "x = tf.keras.layers.Activation(activation='relu')(x)\n",
        "x = tf.keras.layers.Dropout(0.05)(x)\n",
        "\n",
        "x = tf.keras.layers.Dense(16, kernel_initializer='he_normal')(x)\n",
        "x = tf.keras.layers.Activation(activation='relu')(x)\n",
        "x = tf.keras.layers.Dropout(0.05)(x)\n",
        "\n",
        "## Adding an Output layer with Sigmoid activation funtion which gives output between 0 and 1\n",
        "x = tf.keras.layers.Dense(9)(x)\n",
        "x = tf.keras.layers.Activation(activation='softmax')(x)\n",
        "\n",
        "## Adding a Lambda layer to convert the output to rating by scaling it with the help of available rating information\n",
        "# x = tf.keras.layers.Lambda(lambda x: x*(max_rating - min_rating) + min_rating)(x)\n",
        "\n",
        "## Defining the model\n",
        "model = tf.keras.models.Model(inputs=[user,movie], outputs=x)\n",
        "# optimizer = tf.keras.optimizers.Adam(lr=0.001)\n",
        "# optimizer = tf.keras.optimizers.RMSprop(learning_rate=0.005,\n",
        "    # rho=0.9, momentum=0.01, epsilon=1e-07)\n",
        "\n",
        "## Compiling the model\n",
        "# model.compile(loss='binary_crossentropy', optimizer = optimizer)\n",
        "# model.compile(loss='mean_squared_error', optimizer = optimizer,metrics=['accuracy'])\n",
        "model.compile(optimizer='sgd', loss=tf.keras.losses.SparseCategoricalCrossentropy(), metrics=['accuracy'])\n"
      ],
      "execution_count": 43,
      "outputs": []
    },
    {
      "cell_type": "code",
      "metadata": {
        "id": "7rMMb03YpJt-",
        "outputId": "39450240-80fd-42bc-cb6f-48ac1fc9bcda",
        "colab": {
          "base_uri": "https://localhost:8080/"
        }
      },
      "source": [
        "model.summary()"
      ],
      "execution_count": 44,
      "outputs": [
        {
          "output_type": "stream",
          "name": "stdout",
          "text": [
            "Model: \"model\"\n",
            "__________________________________________________________________________________________________\n",
            " Layer (type)                   Output Shape         Param #     Connected to                     \n",
            "==================================================================================================\n",
            " input_1 (InputLayer)           [(None, 1)]          0           []                               \n",
            "                                                                                                  \n",
            " input_2 (InputLayer)           [(None, 1)]          0           []                               \n",
            "                                                                                                  \n",
            " embedding (Embedding)          (None, 1, 150)       141450      ['input_1[0][0]']                \n",
            "                                                                                                  \n",
            " embedding_1 (Embedding)        (None, 1, 150)       249600      ['input_2[0][0]']                \n",
            "                                                                                                  \n",
            " reshape (Reshape)              (None, 150)          0           ['embedding[0][0]']              \n",
            "                                                                                                  \n",
            " reshape_1 (Reshape)            (None, 150)          0           ['embedding_1[0][0]']            \n",
            "                                                                                                  \n",
            " concatenate (Concatenate)      (None, 300)          0           ['reshape[0][0]',                \n",
            "                                                                  'reshape_1[0][0]']              \n",
            "                                                                                                  \n",
            " dropout (Dropout)              (None, 300)          0           ['concatenate[0][0]']            \n",
            "                                                                                                  \n",
            " dense (Dense)                  (None, 32)           9632        ['dropout[0][0]']                \n",
            "                                                                                                  \n",
            " activation (Activation)        (None, 32)           0           ['dense[0][0]']                  \n",
            "                                                                                                  \n",
            " dropout_1 (Dropout)            (None, 32)           0           ['activation[0][0]']             \n",
            "                                                                                                  \n",
            " dense_1 (Dense)                (None, 16)           528         ['dropout_1[0][0]']              \n",
            "                                                                                                  \n",
            " activation_1 (Activation)      (None, 16)           0           ['dense_1[0][0]']                \n",
            "                                                                                                  \n",
            " dropout_2 (Dropout)            (None, 16)           0           ['activation_1[0][0]']           \n",
            "                                                                                                  \n",
            " dense_2 (Dense)                (None, 9)            153         ['dropout_2[0][0]']              \n",
            "                                                                                                  \n",
            " activation_2 (Activation)      (None, 9)            0           ['dense_2[0][0]']                \n",
            "                                                                                                  \n",
            "==================================================================================================\n",
            "Total params: 401,363\n",
            "Trainable params: 401,363\n",
            "Non-trainable params: 0\n",
            "__________________________________________________________________________________________________\n"
          ]
        }
      ]
    },
    {
      "cell_type": "code",
      "metadata": {
        "id": "Ky7cKIGDuSgy",
        "outputId": "1e006888-2c7d-4c5f-afb9-0aed89149828",
        "colab": {
          "base_uri": "https://localhost:8080/"
        }
      },
      "source": [
        "reduce_lr = tf.keras.callbacks.ReduceLROnPlateau(monitor='val_loss', factor=0.75, patience=3, min_lr=0.0001, verbose=1)\n",
        "\n",
        "history = model.fit(x = X_train_array, y = y_train, batch_size=128, epochs=70, verbose=1, validation_data=(X_test_array, y_test)\n",
        ",shuffle=True)\n"
      ],
      "execution_count": 45,
      "outputs": [
        {
          "output_type": "stream",
          "name": "stdout",
          "text": [
            "Epoch 1/70\n",
            "701/701 [==============================] - 5s 6ms/step - loss: 0.7640 - accuracy: 0.0606 - val_loss: 0.5240 - val_accuracy: 0.0617\n",
            "Epoch 2/70\n",
            "701/701 [==============================] - 4s 5ms/step - loss: 0.5337 - accuracy: 0.0609 - val_loss: 0.5136 - val_accuracy: 0.0617\n",
            "Epoch 3/70\n",
            "701/701 [==============================] - 4s 6ms/step - loss: 0.5257 - accuracy: 0.0610 - val_loss: 0.5110 - val_accuracy: 0.0617\n",
            "Epoch 4/70\n",
            "701/701 [==============================] - 4s 6ms/step - loss: 0.5224 - accuracy: 0.0609 - val_loss: 0.5101 - val_accuracy: 0.0617\n",
            "Epoch 5/70\n",
            "701/701 [==============================] - 4s 6ms/step - loss: 0.5208 - accuracy: 0.0609 - val_loss: 0.5094 - val_accuracy: 0.0617\n",
            "Epoch 6/70\n",
            "701/701 [==============================] - 4s 6ms/step - loss: 0.5194 - accuracy: 0.0609 - val_loss: 0.5084 - val_accuracy: 0.0617\n",
            "Epoch 7/70\n",
            "701/701 [==============================] - 4s 6ms/step - loss: 0.5183 - accuracy: 0.0609 - val_loss: 0.5076 - val_accuracy: 0.0617\n",
            "Epoch 8/70\n",
            "701/701 [==============================] - 4s 6ms/step - loss: 0.5175 - accuracy: 0.0609 - val_loss: 0.5069 - val_accuracy: 0.0617\n",
            "Epoch 9/70\n",
            "701/701 [==============================] - 4s 6ms/step - loss: 0.5162 - accuracy: 0.0609 - val_loss: 0.5064 - val_accuracy: 0.0617\n",
            "Epoch 10/70\n",
            "701/701 [==============================] - 4s 6ms/step - loss: 0.5151 - accuracy: 0.0609 - val_loss: 0.5052 - val_accuracy: 0.0617\n",
            "Epoch 11/70\n",
            "701/701 [==============================] - 4s 6ms/step - loss: 0.5135 - accuracy: 0.0609 - val_loss: 0.5036 - val_accuracy: 0.0617\n",
            "Epoch 12/70\n",
            "701/701 [==============================] - 4s 6ms/step - loss: 0.5123 - accuracy: 0.0609 - val_loss: 0.5019 - val_accuracy: 0.0617\n",
            "Epoch 13/70\n",
            "701/701 [==============================] - 4s 6ms/step - loss: 0.5101 - accuracy: 0.0609 - val_loss: 0.4996 - val_accuracy: 0.0617\n",
            "Epoch 14/70\n",
            "701/701 [==============================] - 4s 6ms/step - loss: 0.5072 - accuracy: 0.0609 - val_loss: 0.4965 - val_accuracy: 0.0617\n",
            "Epoch 15/70\n",
            "701/701 [==============================] - 4s 6ms/step - loss: 0.5040 - accuracy: 0.0609 - val_loss: 0.4925 - val_accuracy: 0.0617\n",
            "Epoch 16/70\n",
            "701/701 [==============================] - 4s 6ms/step - loss: 0.4997 - accuracy: 0.0609 - val_loss: 0.4879 - val_accuracy: 0.0617\n",
            "Epoch 17/70\n",
            "701/701 [==============================] - 4s 6ms/step - loss: 0.4943 - accuracy: 0.0609 - val_loss: 0.4815 - val_accuracy: 0.0617\n",
            "Epoch 18/70\n",
            "701/701 [==============================] - 4s 6ms/step - loss: 0.4873 - accuracy: 0.0609 - val_loss: 0.4747 - val_accuracy: 0.0617\n",
            "Epoch 19/70\n",
            "701/701 [==============================] - 4s 6ms/step - loss: 0.4801 - accuracy: 0.0610 - val_loss: 0.4672 - val_accuracy: 0.0617\n",
            "Epoch 20/70\n",
            "701/701 [==============================] - 4s 6ms/step - loss: 0.4733 - accuracy: 0.0614 - val_loss: 0.4601 - val_accuracy: 0.0617\n",
            "Epoch 21/70\n",
            "701/701 [==============================] - 4s 6ms/step - loss: 0.4661 - accuracy: 0.0633 - val_loss: 0.4538 - val_accuracy: 0.0647\n",
            "Epoch 22/70\n",
            "701/701 [==============================] - 4s 6ms/step - loss: 0.4599 - accuracy: 0.0700 - val_loss: 0.4483 - val_accuracy: 0.0713\n",
            "Epoch 23/70\n",
            "701/701 [==============================] - 4s 6ms/step - loss: 0.4545 - accuracy: 0.0759 - val_loss: 0.4437 - val_accuracy: 0.0776\n",
            "Epoch 24/70\n",
            "701/701 [==============================] - 4s 6ms/step - loss: 0.4490 - accuracy: 0.0836 - val_loss: 0.4399 - val_accuracy: 0.0817\n",
            "Epoch 25/70\n",
            "701/701 [==============================] - 4s 6ms/step - loss: 0.4451 - accuracy: 0.0904 - val_loss: 0.4374 - val_accuracy: 0.0899\n",
            "Epoch 26/70\n",
            "701/701 [==============================] - 4s 6ms/step - loss: 0.4413 - accuracy: 0.0935 - val_loss: 0.4340 - val_accuracy: 0.0906\n",
            "Epoch 27/70\n",
            "701/701 [==============================] - 4s 6ms/step - loss: 0.4387 - accuracy: 0.0971 - val_loss: 0.4317 - val_accuracy: 0.0970\n",
            "Epoch 28/70\n",
            "701/701 [==============================] - 4s 6ms/step - loss: 0.4356 - accuracy: 0.1000 - val_loss: 0.4298 - val_accuracy: 0.1028\n",
            "Epoch 29/70\n",
            "701/701 [==============================] - 4s 6ms/step - loss: 0.4332 - accuracy: 0.1010 - val_loss: 0.4280 - val_accuracy: 0.0990\n",
            "Epoch 30/70\n",
            "701/701 [==============================] - 4s 6ms/step - loss: 0.4307 - accuracy: 0.1042 - val_loss: 0.4265 - val_accuracy: 0.1026\n",
            "Epoch 31/70\n",
            "701/701 [==============================] - 4s 6ms/step - loss: 0.4285 - accuracy: 0.1064 - val_loss: 0.4264 - val_accuracy: 0.0944\n",
            "Epoch 32/70\n",
            "701/701 [==============================] - 4s 6ms/step - loss: 0.4266 - accuracy: 0.1075 - val_loss: 0.4247 - val_accuracy: 0.1156\n",
            "Epoch 33/70\n",
            "701/701 [==============================] - 4s 6ms/step - loss: 0.4252 - accuracy: 0.1097 - val_loss: 0.4229 - val_accuracy: 0.1037\n",
            "Epoch 34/70\n",
            "701/701 [==============================] - 4s 6ms/step - loss: 0.4233 - accuracy: 0.1114 - val_loss: 0.4220 - val_accuracy: 0.1105\n",
            "Epoch 35/70\n",
            "701/701 [==============================] - 4s 6ms/step - loss: 0.4217 - accuracy: 0.1118 - val_loss: 0.4215 - val_accuracy: 0.1125\n",
            "Epoch 36/70\n",
            "701/701 [==============================] - 4s 6ms/step - loss: 0.4205 - accuracy: 0.1118 - val_loss: 0.4206 - val_accuracy: 0.1128\n",
            "Epoch 37/70\n",
            "701/701 [==============================] - 4s 6ms/step - loss: 0.4199 - accuracy: 0.1116 - val_loss: 0.4201 - val_accuracy: 0.1182\n",
            "Epoch 38/70\n",
            "701/701 [==============================] - 4s 6ms/step - loss: 0.4177 - accuracy: 0.1143 - val_loss: 0.4195 - val_accuracy: 0.1109\n",
            "Epoch 39/70\n",
            "701/701 [==============================] - 4s 6ms/step - loss: 0.4170 - accuracy: 0.1148 - val_loss: 0.4191 - val_accuracy: 0.1166\n",
            "Epoch 40/70\n",
            "701/701 [==============================] - 4s 6ms/step - loss: 0.4162 - accuracy: 0.1157 - val_loss: 0.4185 - val_accuracy: 0.1162\n",
            "Epoch 41/70\n",
            "701/701 [==============================] - 4s 6ms/step - loss: 0.4152 - accuracy: 0.1168 - val_loss: 0.4182 - val_accuracy: 0.1124\n",
            "Epoch 42/70\n",
            "701/701 [==============================] - 4s 6ms/step - loss: 0.4135 - accuracy: 0.1190 - val_loss: 0.4178 - val_accuracy: 0.1184\n",
            "Epoch 43/70\n",
            "701/701 [==============================] - 4s 6ms/step - loss: 0.4129 - accuracy: 0.1185 - val_loss: 0.4175 - val_accuracy: 0.1128\n",
            "Epoch 44/70\n",
            "701/701 [==============================] - 4s 6ms/step - loss: 0.4130 - accuracy: 0.1181 - val_loss: 0.4172 - val_accuracy: 0.1117\n",
            "Epoch 45/70\n",
            "701/701 [==============================] - 4s 6ms/step - loss: 0.4120 - accuracy: 0.1184 - val_loss: 0.4170 - val_accuracy: 0.1189\n",
            "Epoch 46/70\n",
            "701/701 [==============================] - 4s 6ms/step - loss: 0.4114 - accuracy: 0.1178 - val_loss: 0.4166 - val_accuracy: 0.1172\n",
            "Epoch 47/70\n",
            "701/701 [==============================] - 4s 6ms/step - loss: 0.4106 - accuracy: 0.1199 - val_loss: 0.4170 - val_accuracy: 0.1274\n",
            "Epoch 48/70\n",
            "701/701 [==============================] - 4s 6ms/step - loss: 0.4098 - accuracy: 0.1197 - val_loss: 0.4167 - val_accuracy: 0.1181\n",
            "Epoch 49/70\n",
            "701/701 [==============================] - 4s 6ms/step - loss: 0.4093 - accuracy: 0.1214 - val_loss: 0.4177 - val_accuracy: 0.1035\n",
            "Epoch 50/70\n",
            "701/701 [==============================] - 4s 6ms/step - loss: 0.4082 - accuracy: 0.1212 - val_loss: 0.4160 - val_accuracy: 0.1186\n",
            "Epoch 51/70\n",
            "701/701 [==============================] - 4s 6ms/step - loss: 0.4081 - accuracy: 0.1199 - val_loss: 0.4171 - val_accuracy: 0.1314\n",
            "Epoch 52/70\n",
            "701/701 [==============================] - 4s 6ms/step - loss: 0.4085 - accuracy: 0.1202 - val_loss: 0.4160 - val_accuracy: 0.1193\n",
            "Epoch 53/70\n",
            "701/701 [==============================] - 4s 6ms/step - loss: 0.4069 - accuracy: 0.1202 - val_loss: 0.4161 - val_accuracy: 0.1269\n",
            "Epoch 54/70\n",
            "701/701 [==============================] - 4s 6ms/step - loss: 0.4067 - accuracy: 0.1236 - val_loss: 0.4164 - val_accuracy: 0.1136\n",
            "Epoch 55/70\n",
            "701/701 [==============================] - 4s 6ms/step - loss: 0.4065 - accuracy: 0.1224 - val_loss: 0.4168 - val_accuracy: 0.1307\n",
            "Epoch 56/70\n",
            "701/701 [==============================] - 4s 6ms/step - loss: 0.4057 - accuracy: 0.1220 - val_loss: 0.4152 - val_accuracy: 0.1187\n",
            "Epoch 57/70\n",
            "701/701 [==============================] - 4s 6ms/step - loss: 0.4052 - accuracy: 0.1228 - val_loss: 0.4154 - val_accuracy: 0.1224\n",
            "Epoch 58/70\n",
            "701/701 [==============================] - 4s 6ms/step - loss: 0.4048 - accuracy: 0.1223 - val_loss: 0.4153 - val_accuracy: 0.1131\n",
            "Epoch 59/70\n",
            "701/701 [==============================] - 4s 6ms/step - loss: 0.4046 - accuracy: 0.1230 - val_loss: 0.4150 - val_accuracy: 0.1153\n",
            "Epoch 60/70\n",
            "701/701 [==============================] - 4s 6ms/step - loss: 0.4036 - accuracy: 0.1234 - val_loss: 0.4155 - val_accuracy: 0.1254\n",
            "Epoch 61/70\n",
            "701/701 [==============================] - 4s 6ms/step - loss: 0.4034 - accuracy: 0.1228 - val_loss: 0.4152 - val_accuracy: 0.1211\n",
            "Epoch 62/70\n",
            "701/701 [==============================] - 4s 6ms/step - loss: 0.4041 - accuracy: 0.1239 - val_loss: 0.4149 - val_accuracy: 0.1176\n",
            "Epoch 63/70\n",
            "701/701 [==============================] - 4s 6ms/step - loss: 0.4030 - accuracy: 0.1230 - val_loss: 0.4151 - val_accuracy: 0.1212\n",
            "Epoch 64/70\n",
            "701/701 [==============================] - 4s 6ms/step - loss: 0.4021 - accuracy: 0.1238 - val_loss: 0.4157 - val_accuracy: 0.1143\n",
            "Epoch 65/70\n",
            "701/701 [==============================] - 4s 6ms/step - loss: 0.4026 - accuracy: 0.1228 - val_loss: 0.4156 - val_accuracy: 0.1185\n",
            "Epoch 66/70\n",
            "701/701 [==============================] - 4s 6ms/step - loss: 0.4020 - accuracy: 0.1245 - val_loss: 0.4146 - val_accuracy: 0.1223\n",
            "Epoch 67/70\n",
            "701/701 [==============================] - 4s 6ms/step - loss: 0.4017 - accuracy: 0.1236 - val_loss: 0.4146 - val_accuracy: 0.1203\n",
            "Epoch 68/70\n",
            "701/701 [==============================] - 4s 6ms/step - loss: 0.4009 - accuracy: 0.1239 - val_loss: 0.4149 - val_accuracy: 0.1246\n",
            "Epoch 69/70\n",
            "701/701 [==============================] - 4s 6ms/step - loss: 0.4010 - accuracy: 0.1247 - val_loss: 0.4155 - val_accuracy: 0.1323\n",
            "Epoch 70/70\n",
            "701/701 [==============================] - 4s 6ms/step - loss: 0.4004 - accuracy: 0.1250 - val_loss: 0.4150 - val_accuracy: 0.1264\n"
          ]
        }
      ]
    },
    {
      "cell_type": "code",
      "metadata": {
        "id": "Ia_EsnKTur47",
        "outputId": "7c749d10-8840-42e4-9541-c2b388082528",
        "colab": {
          "base_uri": "https://localhost:8080/",
          "height": 295
        }
      },
      "source": [
        "plt.plot(history.history[\"loss\"][5:])\n",
        "plt.plot(history.history[\"val_loss\"][5:])\n",
        "plt.title(\"model loss\")\n",
        "plt.ylabel(\"loss\")\n",
        "plt.xlabel(\"epoch\")\n",
        "plt.legend([\"train\", \"test\"], loc=\"upper left\")\n",
        "plt.show()"
      ],
      "execution_count": 46,
      "outputs": [
        {
          "output_type": "display_data",
          "data": {
            "image/png": "[encoded data removed]",
            "text/plain": [
              "<Figure size 432x288 with 1 Axes>"
            ]
          },
          "metadata": {
            "needs_background": "light"
          }
        }
      ]
    },
    {
      "cell_type": "markdown",
      "metadata": {
        "id": "2VpBSnCPILno"
      },
      "source": [
        "## Getting movies for given User"
      ]
    },
    {
      "cell_type": "code",
      "metadata": {
        "id": "qRgSHldIJMLu",
        "outputId": "df8329de-acc3-41c3-8e84-b3b08782bf75",
        "colab": {
          "base_uri": "https://localhost:8080/",
          "height": 206
        }
      },
      "source": [
        "refined_dataset.head()"
      ],
      "execution_count": 47,
      "outputs": [
        {
          "output_type": "execute_result",
          "data": {
            "text/html": [
              "<div>\n",
              "<style scoped>\n",
              "    .dataframe tbody tr th:only-of-type {\n",
              "        vertical-align: middle;\n",
              "    }\n",
              "\n",
              "    .dataframe tbody tr th {\n",
              "        vertical-align: top;\n",
              "    }\n",
              "\n",
              "    .dataframe thead th {\n",
              "        text-align: right;\n",
              "    }\n",
              "</style>\n",
              "<table border=\"1\" class=\"dataframe\">\n",
              "  <thead>\n",
              "    <tr style=\"text-align: right;\">\n",
              "      <th></th>\n",
              "      <th>user id</th>\n",
              "      <th>movie title</th>\n",
              "      <th>rating</th>\n",
              "      <th>user</th>\n",
              "      <th>movie</th>\n",
              "    </tr>\n",
              "  </thead>\n",
              "  <tbody>\n",
              "    <tr>\n",
              "      <th>0</th>\n",
              "      <td>1</td>\n",
              "      <td>101 Dalmatians (1996)</td>\n",
              "      <td>2.0</td>\n",
              "      <td>0</td>\n",
              "      <td>2</td>\n",
              "    </tr>\n",
              "    <tr>\n",
              "      <th>1</th>\n",
              "      <td>1</td>\n",
              "      <td>12 Angry Men (1957)</td>\n",
              "      <td>5.0</td>\n",
              "      <td>0</td>\n",
              "      <td>3</td>\n",
              "    </tr>\n",
              "    <tr>\n",
              "      <th>2</th>\n",
              "      <td>1</td>\n",
              "      <td>20,000 Leagues Under the Sea (1954)</td>\n",
              "      <td>3.0</td>\n",
              "      <td>0</td>\n",
              "      <td>6</td>\n",
              "    </tr>\n",
              "    <tr>\n",
              "      <th>3</th>\n",
              "      <td>1</td>\n",
              "      <td>2001: A Space Odyssey (1968)</td>\n",
              "      <td>4.0</td>\n",
              "      <td>0</td>\n",
              "      <td>7</td>\n",
              "    </tr>\n",
              "    <tr>\n",
              "      <th>4</th>\n",
              "      <td>1</td>\n",
              "      <td>Abyss, The (1989)</td>\n",
              "      <td>3.0</td>\n",
              "      <td>0</td>\n",
              "      <td>16</td>\n",
              "    </tr>\n",
              "  </tbody>\n",
              "</table>\n",
              "</div>"
            ],
            "text/plain": [
              "   user id                          movie title  rating  user  movie\n",
              "0        1                101 Dalmatians (1996)     2.0     0      2\n",
              "1        1                  12 Angry Men (1957)     5.0     0      3\n",
              "2        1  20,000 Leagues Under the Sea (1954)     3.0     0      6\n",
              "3        1         2001: A Space Odyssey (1968)     4.0     0      7\n",
              "4        1                    Abyss, The (1989)     3.0     0     16"
            ]
          },
          "metadata": {},
          "execution_count": 47
        }
      ]
    },
    {
      "cell_type": "markdown",
      "metadata": {
        "id": "Xdmw3s6eJjSz"
      },
      "source": [
        "**How this DNN model works is, it takes two inputs, one of the input has user id's and the other has corresponding movie id's. Here DNN model tries to predict the ratings of the user - movie combination. So, we can input a specific user id (broadcasting it with the size of other input) and unseen movie id of the user and expect the model to give the ratings of the movies which would have been the ratings given by the user. Here, the ratings are already normalized and as we need the movies which interest the user more, ratings are not brought back to 0-5 scale.**"
      ]
    },
    {
      "cell_type": "code",
      "metadata": {
        "id": "A9pFADxRM-SX",
        "outputId": "6ebc4a84-d5ba-490d-c3ba-adf69b565df7",
        "colab": {
          "base_uri": "https://localhost:8080/"
        }
      },
      "source": [
        "X_train_array"
      ],
      "execution_count": 48,
      "outputs": [
        {
          "output_type": "execute_result",
          "data": {
            "text/plain": [
              "[array([180, 487, 177, ..., 431, 232, 138]),\n",
              " array([1152,  389,  302, ..., 1588,  399,  612])]"
            ]
          },
          "metadata": {},
          "execution_count": 48
        }
      ]
    },
    {
      "cell_type": "markdown",
      "metadata": {
        "id": "_5Orqr2yatoT"
      },
      "source": [
        "Above is the model input shape"
      ]
    },
    {
      "cell_type": "code",
      "metadata": {
        "id": "bKuwDF7pxEgA",
        "outputId": "a2c3e59f-cb04-4dd4-ac0e-e8778389b05a",
        "colab": {
          "base_uri": "https://localhost:8080/"
        }
      },
      "source": [
        "\n",
        "user_id = [777]\n",
        "encoded_user_id = user_enc.transform(user_id)\n",
        "\n",
        "seen_movies = list(refined_dataset[refined_dataset['user id'] == user_id[0]]['movie'])\n",
        "print(seen_movies)"
      ],
      "execution_count": 49,
      "outputs": [
        {
          "output_type": "stream",
          "name": "stdout",
          "text": [
            "[7, 55, 87, 113, 313, 337, 389, 390, 399, 411, 432, 460, 498, 528, 580, 604, 612, 643, 666, 783, 996, 1005, 1032, 1102, 1132, 1157, 1190, 1208, 1251, 1260, 1284, 1302, 1342, 1523, 1558, 1615]\n"
          ]
        }
      ]
    },
    {
      "cell_type": "markdown",
      "metadata": {
        "id": "_qMqFifba4Yj"
      },
      "source": [
        "Id's of movies which are already seen by the user are extracted."
      ]
    },
    {
      "cell_type": "code",
      "metadata": {
        "id": "IjXFgDR4NTkO",
        "outputId": "bf3184a7-58de-402f-811c-6a63a1ec5d1e",
        "colab": {
          "base_uri": "https://localhost:8080/"
        }
      },
      "source": [
        "len(refined_dataset['movie'].unique()), min(refined_dataset['movie']), max(refined_dataset['movie'])"
      ],
      "execution_count": 50,
      "outputs": [
        {
          "output_type": "execute_result",
          "data": {
            "text/plain": [
              "(1664, 0, 1663)"
            ]
          },
          "metadata": {},
          "execution_count": 50
        }
      ]
    },
    {
      "cell_type": "markdown",
      "metadata": {
        "id": "Np6LcHMwYTD-"
      },
      "source": [
        "We can understand that the labels are from 0 to 1663. So the movie id's which are not seen by the user can be pciked just by excluding the 'seen_movies' list from the first 1663 natural numbers."
      ]
    },
    {
      "cell_type": "code",
      "metadata": {
        "id": "i_rRA2ScWFLF",
        "outputId": "9c183f2f-89ae-4e26-cdd4-c64c0f14dd6e",
        "colab": {
          "base_uri": "https://localhost:8080/"
        }
      },
      "source": [
        "unseen_movies = [i for i in range(min(refined_dataset['movie']), max(refined_dataset['movie'])+1) if i not in seen_movies]\n",
        "print(unseen_movies)"
      ],
      "execution_count": 51,
      "outputs": [
        {
          "output_type": "stream",
          "name": "stdout",
          "text": [
            "[0, 1, 2, 3, 4, 5, 6, 8, 9, 10, 11, 12, 13, 14, 15, 16, 17, 18, 19, 20, 21, 22, 23, 24, 25, 26, 27, 28, 29, 30, 31, 32, 33, 34, 35, 36, 37, 38, 39, 40, 41, 42, 43, 44, 45, 46, 47, 48, 49, 50, 51, 52, 53, 54, 56, 57, 58, 59, 60, 61, 62, 63, 64, 65, 66, 67, 68, 69, 70, 71, 72, 73, 74, 75, 76, 77, 78, 79, 80, 81, 82, 83, 84, 85, 86, 88, 89, 90, 91, 92, 93, 94, 95, 96, 97, 98, 99, 100, 101, 102, 103, 104, 105, 106, 107, 108, 109, 110, 111, 112, 114, 115, 116, 117, 118, 119, 120, 121, 122, 123, 124, 125, 126, 127, 128, 129, 130, 131, 132, 133, 134, 135, 136, 137, 138, 139, 140, 141, 142, 143, 144, 145, 146, 147, 148, 149, 150, 151, 152, 153, 154, 155, 156, 157, 158, 159, 160, 161, 162, 163, 164, 165, 166, 167, 168, 169, 170, 171, 172, 173, 174, 175, 176, 177, 178, 179, 180, 181, 182, 183, 184, 185, 186, 187, 188, 189, 190, 191, 192, 193, 194, 195, 196, 197, 198, 199, 200, 201, 202, 203, 204, 205, 206, 207, 208, 209, 210, 211, 212, 213, 214, 215, 216, 217, 218, 219, 220, 221, 222, 223, 224, 225, 226, 227, 228, 229, 230, 231, 232, 233, 234, 235, 236, 237, 238, 239, 240, 241, 242, 243, 244, 245, 246, 247, 248, 249, 250, 251, 252, 253, 254, 255, 256, 257, 258, 259, 260, 261, 262, 263, 264, 265, 266, 267, 268, 269, 270, 271, 272, 273, 274, 275, 276, 277, 278, 279, 280, 281, 282, 283, 284, 285, 286, 287, 288, 289, 290, 291, 292, 293, 294, 295, 296, 297, 298, 299, 300, 301, 302, 303, 304, 305, 306, 307, 308, 309, 310, 311, 312, 314, 315, 316, 317, 318, 319, 320, 321, 322, 323, 324, 325, 326, 327, 328, 329, 330, 331, 332, 333, 334, 335, 336, 338, 339, 340, 341, 342, 343, 344, 345, 346, 347, 348, 349, 350, 351, 352, 353, 354, 355, 356, 357, 358, 359, 360, 361, 362, 363, 364, 365, 366, 367, 368, 369, 370, 371, 372, 373, 374, 375, 376, 377, 378, 379, 380, 381, 382, 383, 384, 385, 386, 387, 388, 391, 392, 393, 394, 395, 396, 397, 398, 400, 401, 402, 403, 404, 405, 406, 407, 408, 409, 410, 412, 413, 414, 415, 416, 417, 418, 419, 420, 421, 422, 423, 424, 425, 426, 427, 428, 429, 430, 431, 433, 434, 435, 436, 437, 438, 439, 440, 441, 442, 443, 444, 445, 446, 447, 448, 449, 450, 451, 452, 453, 454, 455, 456, 457, 458, 459, 461, 462, 463, 464, 465, 466, 467, 468, 469, 470, 471, 472, 473, 474, 475, 476, 477, 478, 479, 480, 481, 482, 483, 484, 485, 486, 487, 488, 489, 490, 491, 492, 493, 494, 495, 496, 497, 499, 500, 501, 502, 503, 504, 505, 506, 507, 508, 509, 510, 511, 512, 513, 514, 515, 516, 517, 518, 519, 520, 521, 522, 523, 524, 525, 526, 527, 529, 530, 531, 532, 533, 534, 535, 536, 537, 538, 539, 540, 541, 542, 543, 544, 545, 546, 547, 548, 549, 550, 551, 552, 553, 554, 555, 556, 557, 558, 559, 560, 561, 562, 563, 564, 565, 566, 567, 568, 569, 570, 571, 572, 573, 574, 575, 576, 577, 578, 579, 581, 582, 583, 584, 585, 586, 587, 588, 589, 590, 591, 592, 593, 594, 595, 596, 597, 598, 599, 600, 601, 602, 603, 605, 606, 607, 608, 609, 610, 611, 613, 614, 615, 616, 617, 618, 619, 620, 621, 622, 623, 624, 625, 626, 627, 628, 629, 630, 631, 632, 633, 634, 635, 636, 637, 638, 639, 640, 641, 642, 644, 645, 646, 647, 648, 649, 650, 651, 652, 653, 654, 655, 656, 657, 658, 659, 660, 661, 662, 663, 664, 665, 667, 668, 669, 670, 671, 672, 673, 674, 675, 676, 677, 678, 679, 680, 681, 682, 683, 684, 685, 686, 687, 688, 689, 690, 691, 692, 693, 694, 695, 696, 697, 698, 699, 700, 701, 702, 703, 704, 705, 706, 707, 708, 709, 710, 711, 712, 713, 714, 715, 716, 717, 718, 719, 720, 721, 722, 723, 724, 725, 726, 727, 728, 729, 730, 731, 732, 733, 734, 735, 736, 737, 738, 739, 740, 741, 742, 743, 744, 745, 746, 747, 748, 749, 750, 751, 752, 753, 754, 755, 756, 757, 758, 759, 760, 761, 762, 763, 764, 765, 766, 767, 768, 769, 770, 771, 772, 773, 774, 775, 776, 777, 778, 779, 780, 781, 782, 784, 785, 786, 787, 788, 789, 790, 791, 792, 793, 794, 795, 796, 797, 798, 799, 800, 801, 802, 803, 804, 805, 806, 807, 808, 809, 810, 811, 812, 813, 814, 815, 816, 817, 818, 819, 820, 821, 822, 823, 824, 825, 826, 827, 828, 829, 830, 831, 832, 833, 834, 835, 836, 837, 838, 839, 840, 841, 842, 843, 844, 845, 846, 847, 848, 849, 850, 851, 852, 853, 854, 855, 856, 857, 858, 859, 860, 861, 862, 863, 864, 865, 866, 867, 868, 869, 870, 871, 872, 873, 874, 875, 876, 877, 878, 879, 880, 881, 882, 883, 884, 885, 886, 887, 888, 889, 890, 891, 892, 893, 894, 895, 896, 897, 898, 899, 900, 901, 902, 903, 904, 905, 906, 907, 908, 909, 910, 911, 912, 913, 914, 915, 916, 917, 918, 919, 920, 921, 922, 923, 924, 925, 926, 927, 928, 929, 930, 931, 932, 933, 934, 935, 936, 937, 938, 939, 940, 941, 942, 943, 944, 945, 946, 947, 948, 949, 950, 951, 952, 953, 954, 955, 956, 957, 958, 959, 960, 961, 962, 963, 964, 965, 966, 967, 968, 969, 970, 971, 972, 973, 974, 975, 976, 977, 978, 979, 980, 981, 982, 983, 984, 985, 986, 987, 988, 989, 990, 991, 992, 993, 994, 995, 997, 998, 999, 1000, 1001, 1002, 1003, 1004, 1006, 1007, 1008, 1009, 1010, 1011, 1012, 1013, 1014, 1015, 1016, 1017, 1018, 1019, 1020, 1021, 1022, 1023, 1024, 1025, 1026, 1027, 1028, 1029, 1030, 1031, 1033, 1034, 1035, 1036, 1037, 1038, 1039, 1040, 1041, 1042, 1043, 1044, 1045, 1046, 1047, 1048, 1049, 1050, 1051, 1052, 1053, 1054, 1055, 1056, 1057, 1058, 1059, 1060, 1061, 1062, 1063, 1064, 1065, 1066, 1067, 1068, 1069, 1070, 1071, 1072, 1073, 1074, 1075, 1076, 1077, 1078, 1079, 1080, 1081, 1082, 1083, 1084, 1085, 1086, 1087, 1088, 1089, 1090, 1091, 1092, 1093, 1094, 1095, 1096, 1097, 1098, 1099, 1100, 1101, 1103, 1104, 1105, 1106, 1107, 1108, 1109, 1110, 1111, 1112, 1113, 1114, 1115, 1116, 1117, 1118, 1119, 1120, 1121, 1122, 1123, 1124, 1125, 1126, 1127, 1128, 1129, 1130, 1131, 1133, 1134, 1135, 1136, 1137, 1138, 1139, 1140, 1141, 1142, 1143, 1144, 1145, 1146, 1147, 1148, 1149, 1150, 1151, 1152, 1153, 1154, 1155, 1156, 1158, 1159, 1160, 1161, 1162, 1163, 1164, 1165, 1166, 1167, 1168, 1169, 1170, 1171, 1172, 1173, 1174, 1175, 1176, 1177, 1178, 1179, 1180, 1181, 1182, 1183, 1184, 1185, 1186, 1187, 1188, 1189, 1191, 1192, 1193, 1194, 1195, 1196, 1197, 1198, 1199, 1200, 1201, 1202, 1203, 1204, 1205, 1206, 1207, 1209, 1210, 1211, 1212, 1213, 1214, 1215, 1216, 1217, 1218, 1219, 1220, 1221, 1222, 1223, 1224, 1225, 1226, 1227, 1228, 1229, 1230, 1231, 1232, 1233, 1234, 1235, 1236, 1237, 1238, 1239, 1240, 1241, 1242, 1243, 1244, 1245, 1246, 1247, 1248, 1249, 1250, 1252, 1253, 1254, 1255, 1256, 1257, 1258, 1259, 1261, 1262, 1263, 1264, 1265, 1266, 1267, 1268, 1269, 1270, 1271, 1272, 1273, 1274, 1275, 1276, 1277, 1278, 1279, 1280, 1281, 1282, 1283, 1285, 1286, 1287, 1288, 1289, 1290, 1291, 1292, 1293, 1294, 1295, 1296, 1297, 1298, 1299, 1300, 1301, 1303, 1304, 1305, 1306, 1307, 1308, 1309, 1310, 1311, 1312, 1313, 1314, 1315, 1316, 1317, 1318, 1319, 1320, 1321, 1322, 1323, 1324, 1325, 1326, 1327, 1328, 1329, 1330, 1331, 1332, 1333, 1334, 1335, 1336, 1337, 1338, 1339, 1340, 1341, 1343, 1344, 1345, 1346, 1347, 1348, 1349, 1350, 1351, 1352, 1353, 1354, 1355, 1356, 1357, 1358, 1359, 1360, 1361, 1362, 1363, 1364, 1365, 1366, 1367, 1368, 1369, 1370, 1371, 1372, 1373, 1374, 1375, 1376, 1377, 1378, 1379, 1380, 1381, 1382, 1383, 1384, 1385, 1386, 1387, 1388, 1389, 1390, 1391, 1392, 1393, 1394, 1395, 1396, 1397, 1398, 1399, 1400, 1401, 1402, 1403, 1404, 1405, 1406, 1407, 1408, 1409, 1410, 1411, 1412, 1413, 1414, 1415, 1416, 1417, 1418, 1419, 1420, 1421, 1422, 1423, 1424, 1425, 1426, 1427, 1428, 1429, 1430, 1431, 1432, 1433, 1434, 1435, 1436, 1437, 1438, 1439, 1440, 1441, 1442, 1443, 1444, 1445, 1446, 1447, 1448, 1449, 1450, 1451, 1452, 1453, 1454, 1455, 1456, 1457, 1458, 1459, 1460, 1461, 1462, 1463, 1464, 1465, 1466, 1467, 1468, 1469, 1470, 1471, 1472, 1473, 1474, 1475, 1476, 1477, 1478, 1479, 1480, 1481, 1482, 1483, 1484, 1485, 1486, 1487, 1488, 1489, 1490, 1491, 1492, 1493, 1494, 1495, 1496, 1497, 1498, 1499, 1500, 1501, 1502, 1503, 1504, 1505, 1506, 1507, 1508, 1509, 1510, 1511, 1512, 1513, 1514, 1515, 1516, 1517, 1518, 1519, 1520, 1521, 1522, 1524, 1525, 1526, 1527, 1528, 1529, 1530, 1531, 1532, 1533, 1534, 1535, 1536, 1537, 1538, 1539, 1540, 1541, 1542, 1543, 1544, 1545, 1546, 1547, 1548, 1549, 1550, 1551, 1552, 1553, 1554, 1555, 1556, 1557, 1559, 1560, 1561, 1562, 1563, 1564, 1565, 1566, 1567, 1568, 1569, 1570, 1571, 1572, 1573, 1574, 1575, 1576, 1577, 1578, 1579, 1580, 1581, 1582, 1583, 1584, 1585, 1586, 1587, 1588, 1589, 1590, 1591, 1592, 1593, 1594, 1595, 1596, 1597, 1598, 1599, 1600, 1601, 1602, 1603, 1604, 1605, 1606, 1607, 1608, 1609, 1610, 1611, 1612, 1613, 1614, 1616, 1617, 1618, 1619, 1620, 1621, 1622, 1623, 1624, 1625, 1626, 1627, 1628, 1629, 1630, 1631, 1632, 1633, 1634, 1635, 1636, 1637, 1638, 1639, 1640, 1641, 1642, 1643, 1644, 1645, 1646, 1647, 1648, 1649, 1650, 1651, 1652, 1653, 1654, 1655, 1656, 1657, 1658, 1659, 1660, 1661, 1662, 1663]\n"
          ]
        }
      ]
    },
    {
      "cell_type": "markdown",
      "metadata": {
        "id": "KcspS9SMdJef"
      },
      "source": [
        "Movies which are not seen by the user."
      ]
    },
    {
      "cell_type": "code",
      "metadata": {
        "id": "mtCDRu3WYCZa",
        "outputId": "92959fe9-440b-46e0-b229-2c934be54115",
        "colab": {
          "base_uri": "https://localhost:8080/"
        }
      },
      "source": [
        "len(unseen_movies) + len(seen_movies)"
      ],
      "execution_count": 52,
      "outputs": [
        {
          "output_type": "execute_result",
          "data": {
            "text/plain": [
              "1664"
            ]
          },
          "metadata": {},
          "execution_count": 52
        }
      ]
    },
    {
      "cell_type": "code",
      "metadata": {
        "id": "qmS6oeujY6fo",
        "outputId": "cfb30711-3f90-458f-dbfc-82d54ac08b05",
        "colab": {
          "base_uri": "https://localhost:8080/"
        }
      },
      "source": [
        "model_input = [np.asarray(list(encoded_user_id)*len(unseen_movies)), np.asarray(unseen_movies)]\n",
        "len(model_input), len(model_input[0])"
      ],
      "execution_count": 53,
      "outputs": [
        {
          "output_type": "execute_result",
          "data": {
            "text/plain": [
              "(2, 1628)"
            ]
          },
          "metadata": {},
          "execution_count": 53
        }
      ]
    },
    {
      "cell_type": "markdown",
      "metadata": {
        "id": "PyRgI_vJdsAp"
      },
      "source": [
        "**DNN model is used to predict the ratings of the unseen movies.**"
      ]
    },
    {
      "cell_type": "code",
      "metadata": {
        "id": "mmtIZjAgZSax"
      },
      "source": [
        "predicted_ratings = model.predict(model_input)"
      ],
      "execution_count": 54,
      "outputs": []
    },
    {
      "cell_type": "code",
      "source": [
        ""
      ],
      "metadata": {
        "id": "gYjujT7HkJOf"
      },
      "execution_count": null,
      "outputs": []
    },
    {
      "cell_type": "code",
      "metadata": {
        "id": "OfKQOn9CZhi9",
        "outputId": "1fca2bf4-c762-47b8-9a7e-08e2c1bc6505",
        "colab": {
          "base_uri": "https://localhost:8080/"
        }
      },
      "source": [
        "print(predicted_ratings.shape)"
      ],
      "execution_count": 55,
      "outputs": [
        {
          "output_type": "stream",
          "name": "stdout",
          "text": [
            "(1628, 9)\n"
          ]
        }
      ]
    },
    {
      "cell_type": "code",
      "metadata": {
        "id": "y1IGrVJBaKwb",
        "outputId": "af0d1e80-b8e3-402f-d233-445078a575a0",
        "colab": {
          "base_uri": "https://localhost:8080/"
        }
      },
      "source": [
        "print(predicted_ratings)"
      ],
      "execution_count": 56,
      "outputs": [
        {
          "output_type": "stream",
          "name": "stdout",
          "text": [
            "[[9.30776656e-01 6.91997260e-02 3.07301457e-06 ... 3.99632927e-06\n",
            "  3.24913799e-06 9.63387265e-07]\n",
            " [6.08787417e-01 3.91143292e-01 1.00681864e-05 ... 1.05573681e-05\n",
            "  8.41371275e-06 3.41659188e-06]\n",
            " [9.50741470e-01 4.92425300e-02 1.95521238e-06 ... 2.46815512e-06\n",
            "  2.09602490e-06 6.57480541e-07]\n",
            " ...\n",
            " [6.87577546e-01 3.12345415e-01 1.16149940e-05 ... 1.20514605e-05\n",
            "  9.61844762e-06 3.80732195e-06]\n",
            " [7.98344731e-01 2.01603547e-01 7.06837955e-06 ... 8.71024804e-06\n",
            "  6.65669586e-06 2.54366546e-06]\n",
            " [4.60721582e-01 5.39156914e-01 1.87215373e-05 ... 1.82379699e-05\n",
            "  1.48684012e-05 7.27734732e-06]]\n"
          ]
        }
      ]
    },
    {
      "cell_type": "markdown",
      "metadata": {
        "id": "4Uqrx92hd1Yl"
      },
      "source": [
        "Output is of shape (1628, 9). We got probability of each possible rating from 1 to 5. We can extract specific rating which user would have given to a movie but it is not useful for these recommendations now."
      ]
    },
    {
      "cell_type": "code",
      "metadata": {
        "id": "KNOAYhR0e6-h",
        "outputId": "02378ee4-d415-4c28-fccd-d59a33530e7f",
        "colab": {
          "base_uri": "https://localhost:8080/"
        }
      },
      "source": [
        "predicted_ratings = np.max(predicted_ratings, axis=1)\n",
        "predicted_ratings"
      ],
      "execution_count": 57,
      "outputs": [
        {
          "output_type": "execute_result",
          "data": {
            "text/plain": [
              "array([0.93077666, 0.6087874 , 0.95074147, ..., 0.68757755, 0.79834473,\n",
              "       0.5391569 ], dtype=float32)"
            ]
          },
          "metadata": {},
          "execution_count": 57
        }
      ]
    },
    {
      "cell_type": "code",
      "metadata": {
        "id": "X_AitEdxe7UB",
        "outputId": "5d6062f6-eb7a-40ed-a123-1b4f73b097a5",
        "colab": {
          "base_uri": "https://localhost:8080/"
        }
      },
      "source": [
        "predicted_ratings.shape"
      ],
      "execution_count": 58,
      "outputs": [
        {
          "output_type": "execute_result",
          "data": {
            "text/plain": [
              "(1628,)"
            ]
          },
          "metadata": {},
          "execution_count": 58
        }
      ]
    },
    {
      "cell_type": "markdown",
      "metadata": {
        "id": "nMyRRTncgMbf"
      },
      "source": [
        "Index of ratings sorted by descending order."
      ]
    },
    {
      "cell_type": "code",
      "metadata": {
        "id": "ouBCeCapf-UK",
        "outputId": "c174c641-d4da-4bd4-b07e-d0f04bc5e2b6",
        "colab": {
          "base_uri": "https://localhost:8080/"
        }
      },
      "source": [
        "sorted_index = np.argsort(predicted_ratings)[::-1]\n",
        "print(sorted_index)"
      ],
      "execution_count": 59,
      "outputs": [
        {
          "output_type": "stream",
          "name": "stdout",
          "text": [
            "[ 135 1220 1445 ...  841 1086 1596]\n"
          ]
        }
      ]
    },
    {
      "cell_type": "markdown",
      "metadata": {
        "id": "1wKHCeFTkROY"
      },
      "source": [
        "**Movie names have been extracted from the available indices we got.**"
      ]
    },
    {
      "cell_type": "code",
      "metadata": {
        "id": "p6KxPoScf-d6",
        "outputId": "f83c072d-6535-4703-90c1-d50c32d17f37",
        "colab": {
          "base_uri": "https://localhost:8080/"
        }
      },
      "source": [
        "recommended_movies = item_enc.inverse_transform(sorted_index)\n",
        "recommended_movies"
      ],
      "execution_count": 60,
      "outputs": [
        {
          "output_type": "execute_result",
          "data": {
            "text/plain": [
              "array(['Baton Rouge (1988)', 'Red Firecracker, Green Firecracker (1994)',\n",
              "       'Sword in the Stone, The (1963)', ..., 'Last Man Standing (1996)',\n",
              "       'Nénette et Boni (1996)', 'Walking and Talking (1996)'],\n",
              "      dtype=object)"
            ]
          },
          "metadata": {},
          "execution_count": 60
        }
      ]
    },
    {
      "cell_type": "markdown",
      "metadata": {
        "id": "HaKPES74keEW"
      },
      "source": [
        "## Movies recommended with the help of Softmax Deep Neural Networks"
      ]
    },
    {
      "cell_type": "code",
      "metadata": {
        "id": "CIIumPFPf-mS",
        "outputId": "91fd439a-b335-440d-e83c-bc55b91989dc",
        "colab": {
          "base_uri": "https://localhost:8080/"
        }
      },
      "source": [
        "from pprint import pprint\n",
        "pprint(list(recommended_movies[:20]))"
      ],
      "execution_count": 61,
      "outputs": [
        {
          "output_type": "stream",
          "name": "stdout",
          "text": [
            "['Baton Rouge (1988)',\n",
            " 'Red Firecracker, Green Firecracker (1994)',\n",
            " 'Sword in the Stone, The (1963)',\n",
            " 'Saint, The (1997)',\n",
            " 'Striking Distance (1993)',\n",
            " 'In the Line of Duty 2 (1987)',\n",
            " 'Meet Wally Sparks (1997)',\n",
            " 'Duck Soup (1933)',\n",
            " 'Conspiracy Theory (1997)',\n",
            " 'Grosse Fatigue (1994)',\n",
            " 'Ballad of Narayama, The (Narayama Bushiko) (1958)',\n",
            " 'Getaway, The (1994)',\n",
            " 'Mediterraneo (1991)',\n",
            " 'Cinema Paradiso (1988)',\n",
            " 'Bogus (1996)',\n",
            " 'Transformers: The Movie, The (1986)',\n",
            " 'Stars Fell on Henrietta, The (1995)',\n",
            " 'When We Were Kings (1996)',\n",
            " 'Phat Beach (1996)',\n",
            " 'Welcome to the Dollhouse (1995)']\n"
          ]
        }
      ]
    },
    {
      "cell_type": "markdown",
      "metadata": {
        "id": "SoXBhPMiku38"
      },
      "source": [
        "## Summing up the entire code into a recommender system function:"
      ]
    },
    {
      "cell_type": "code",
      "metadata": {
        "id": "MwBUv7TlkuDn"
      },
      "source": [
        "def recommender_system(user_id, model, n_movies):\n",
        "\n",
        "  print(\"\")\n",
        "  print(\"Movie seen by the User:\")\n",
        "  pprint(list(refined_dataset[refined_dataset['user id'] == user_id]['movie title']))\n",
        "  print(\"\")\n",
        "\n",
        "  encoded_user_id = user_enc.transform([user_id])\n",
        "\n",
        "  seen_movies = list(refined_dataset[refined_dataset['user id'] == user_id]['movie'])\n",
        "  unseen_movies = [i for i in range(min(refined_dataset['movie']), max(refined_dataset['movie'])+1) if i not in seen_movies]\n",
        "  model_input = [np.asarray(list(encoded_user_id)*len(unseen_movies)), np.asarray(unseen_movies)]\n",
        "  predicted_ratings = model.predict(model_input)\n",
        "  predicted_ratings = np.max(predicted_ratings, axis=1)\n",
        "  sorted_index = np.argsort(predicted_ratings)[::-1]\n",
        "  recommended_movies = item_enc.inverse_transform(sorted_index)\n",
        "  print(\"---------------------------------------------------------------------------------\")\n",
        "  print(\"Top \"+str(n_movies)+\" Movie recommendations for the User \"+str(user_id)+ \" are:\")\n",
        "  pprint(list(recommended_movies[:n_movies]))"
      ],
      "execution_count": 62,
      "outputs": []
    },
    {
      "cell_type": "code",
      "metadata": {
        "id": "-qAd6yrukuK_",
        "outputId": "6dade678-0e6a-43a9-a917-2a612ff9e0b0",
        "colab": {
          "base_uri": "https://localhost:8080/"
        }
      },
      "source": [
        "print(\"Enter user id\")\n",
        "user_id= int(input())\n",
        "\n",
        "print(\"Enter number of movies to be recommended:\")\n",
        "n_movies = int(input())\n",
        "recommender_system(user_id,model,n_movies)\n"
      ],
      "execution_count": 63,
      "outputs": [
        {
          "output_type": "stream",
          "name": "stdout",
          "text": [
            "Enter user id\n",
            "65\n",
            "Enter number of movies to be recommended:\n",
            "5\n",
            "\n",
            "Movie seen by the User:\n",
            "['12 Angry Men (1957)',\n",
            " '2001: A Space Odyssey (1968)',\n",
            " 'Amadeus (1984)',\n",
            " 'Annie Hall (1977)',\n",
            " 'Apollo 13 (1995)',\n",
            " 'Ben-Hur (1959)',\n",
            " 'Birdcage, The (1996)',\n",
            " 'Butch Cassidy and the Sundance Kid (1969)',\n",
            " 'Chungking Express (1994)',\n",
            " 'Client, The (1994)',\n",
            " 'Clockwork Orange, A (1971)',\n",
            " 'Conspiracy Theory (1997)',\n",
            " 'Contact (1997)',\n",
            " 'Courage Under Fire (1996)',\n",
            " 'Crucible, The (1996)',\n",
            " 'Dances with Wolves (1990)',\n",
            " 'Day the Earth Stood Still, The (1951)',\n",
            " 'Dead Man Walking (1995)',\n",
            " 'Dead Poets Society (1989)',\n",
            " 'Don Juan DeMarco (1995)',\n",
            " 'E.T. the Extra-Terrestrial (1982)',\n",
            " 'Ed Wood (1994)',\n",
            " 'Fargo (1996)',\n",
            " 'Field of Dreams (1989)',\n",
            " 'Firm, The (1993)',\n",
            " 'First Wives Club, The (1996)',\n",
            " 'Forget Paris (1995)',\n",
            " 'Forrest Gump (1994)',\n",
            " 'Four Weddings and a Funeral (1994)',\n",
            " 'Fried Green Tomatoes (1991)',\n",
            " 'Ghost (1990)',\n",
            " 'Glory (1989)',\n",
            " 'Graduate, The (1967)',\n",
            " 'Groundhog Day (1993)',\n",
            " 'High Noon (1952)',\n",
            " 'Hoop Dreams (1994)',\n",
            " 'Independence Day (ID4) (1996)',\n",
            " 'Indiana Jones and the Last Crusade (1989)',\n",
            " 'Jerry Maguire (1996)',\n",
            " 'Lawrence of Arabia (1962)',\n",
            " 'Liar Liar (1997)',\n",
            " 'M*A*S*H (1970)',\n",
            " 'Man Without a Face, The (1993)',\n",
            " 'Maverick (1994)',\n",
            " 'Menace II Society (1993)',\n",
            " 'Miracle on 34th Street (1994)',\n",
            " 'Monty Python and the Holy Grail (1974)',\n",
            " \"Mr. Holland's Opus (1995)\",\n",
            " 'Mrs. Doubtfire (1993)',\n",
            " \"My Best Friend's Wedding (1997)\",\n",
            " \"Nobody's Fool (1994)\",\n",
            " 'Paper, The (1994)',\n",
            " 'Phenomenon (1996)',\n",
            " 'Philadelphia (1993)',\n",
            " 'Piano, The (1993)',\n",
            " 'Powder (1995)',\n",
            " 'Princess Bride, The (1987)',\n",
            " 'Psycho (1960)',\n",
            " 'Pulp Fiction (1994)',\n",
            " 'Raising Arizona (1987)',\n",
            " 'Santa Clause, The (1994)',\n",
            " \"Schindler's List (1993)\",\n",
            " 'Searching for Bobby Fischer (1993)',\n",
            " 'Shadowlands (1993)',\n",
            " 'Shawshank Redemption, The (1994)',\n",
            " 'Shine (1996)',\n",
            " 'Silence of the Lambs, The (1991)',\n",
            " 'Sleepless in Seattle (1993)',\n",
            " 'Sneakers (1992)',\n",
            " 'Stand by Me (1986)',\n",
            " 'Star Wars (1977)',\n",
            " 'Sting, The (1973)',\n",
            " 'To Kill a Mockingbird (1962)',\n",
            " 'Toy Story (1995)',\n",
            " 'Truth About Cats & Dogs, The (1996)',\n",
            " 'Twelve Monkeys (1995)',\n",
            " \"What's Eating Gilbert Grape (1993)\",\n",
            " 'When Harry Met Sally... (1989)',\n",
            " 'When We Were Kings (1996)',\n",
            " 'While You Were Sleeping (1995)']\n",
            "\n",
            "---------------------------------------------------------------------------------\n",
            "Top 5 Movie recommendations for the User 65 are:\n",
            "[\"Stephen King's The Langoliers (1995)\",\n",
            " 'Prophecy, The (1995)',\n",
            " 'Batman Returns (1992)',\n",
            " 'Rising Sun (1993)',\n",
            " 'Spirits of the Dead (Tre passi nel delirio) (1968)']\n"
          ]
        }
      ]
    }
  ]
}